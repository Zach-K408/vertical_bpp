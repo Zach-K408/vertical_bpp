{
 "cells": [
  {
   "attachments": {},
   "cell_type": "markdown",
   "metadata": {},
   "source": [
    "# Vertical Bin Packing Problem\n",
    "\n",
    "- Airport and Cargo Operations (AE4446)\n",
    "- Zach Kelly (5901405), Timotei Dudas ()\n",
    "- May 5th, 2023"
   ]
  },
  {
   "attachments": {},
   "cell_type": "markdown",
   "metadata": {},
   "source": [
    "### Imports"
   ]
  },
  {
   "cell_type": "code",
   "execution_count": 3,
   "metadata": {},
   "outputs": [],
   "source": [
    "import pandas as pd\n",
    "import numpy as np \n",
    "import gurobipy as gp\n",
    "from gurobipy import Model, GRB, GurobiError, quicksum, LinExpr"
   ]
  },
  {
   "attachments": {},
   "cell_type": "markdown",
   "metadata": {},
   "source": [
    "### Input Data"
   ]
  },
  {
   "cell_type": "code",
   "execution_count": 4,
   "metadata": {},
   "outputs": [
    {
     "name": "stdout",
     "output_type": "stream",
     "text": [
      "----- ULDs -----\n"
     ]
    },
    {
     "data": {
      "text/plain": [
       "{0: (0, [300, 155, 2, 140, 0, 0, 0]),\n",
       " 1: (0, [300, 155, 2, 140, 0, 0, 0]),\n",
       " 2: (1, [192, 155, 2, 200, 0, 0, 0]),\n",
       " 3: (1, [192, 155, 2, 200, 0, 0, 0])}"
      ]
     },
     "metadata": {},
     "output_type": "display_data"
    },
    {
     "name": "stdout",
     "output_type": "stream",
     "text": [
      "----- Items -----\n"
     ]
    },
    {
     "data": {
      "text/plain": [
       "{0: (98, 50, 1, 0, 0, 0),\n",
       " 1: (89, 46, 1, 0, 0, 0),\n",
       " 2: (64, 24, 1, 0, 0, 0),\n",
       " 3: (93, 29, 1, 1, 0, 0),\n",
       " 4: (114, 54, 1, 1, 0, 0),\n",
       " 5: (95, 60, 1, 0, 0, 0),\n",
       " 6: (63, 28, 1, 0, 0, 0),\n",
       " 7: (100, 46, 0, 0, 0, 0),\n",
       " 8: (52, 61, 1, 0, 0, 0),\n",
       " 9: (45, 46, 1, 0, 0, 0),\n",
       " 10: (111, 32, 1, 0, 0, 0),\n",
       " 11: (109, 38, 1, 0, 1, 0),\n",
       " 12: (97, 57, 1, 0, 0, 0),\n",
       " 13: (51, 29, 1, 0, 0, 0),\n",
       " 14: (86, 54, 1, 0, 0, 0),\n",
       " 15: (114, 31, 1, 1, 0, 0),\n",
       " 16: (81, 47, 1, 0, 0, 0),\n",
       " 17: (78, 25, 1, 0, 0, 0),\n",
       " 18: (78, 44, 1, 0, 0, 0),\n",
       " 19: (68, 33, 1, 0, 0, 0),\n",
       " 20: (51, 45, 1, 0, 0, 0),\n",
       " 21: (84, 36, 1, 0, 0, 1),\n",
       " 22: (66, 35, 0, 0, 0, 0),\n",
       " 23: (68, 42, 1, 1, 0, 0),\n",
       " 24: (108, 57, 1, 1, 1, 0)}"
      ]
     },
     "metadata": {},
     "output_type": "display_data"
    }
   ],
   "source": [
    "# load data \n",
    "ulds = pd.read_pickle('../data/B.pickle')\n",
    "items = pd.read_pickle('../data/R.pickle')\n",
    "\n",
    "print('----- ULDs -----')\n",
    "display(ulds)\n",
    "print('----- Items -----')\n",
    "display(items)"
   ]
  },
  {
   "attachments": {},
   "cell_type": "markdown",
   "metadata": {},
   "source": [
    "### Setup Model"
   ]
  },
  {
   "cell_type": "code",
   "execution_count": 5,
   "metadata": {},
   "outputs": [
    {
     "name": "stdout",
     "output_type": "stream",
     "text": [
      "Creating Model\n",
      "--------------------\n",
      "Restricted license - for non-production use only - expires 2024-10-28\n"
     ]
    }
   ],
   "source": [
    "print('Creating Model')\n",
    "print('--------------------')\n",
    "model = Model()"
   ]
  },
  {
   "attachments": {},
   "cell_type": "markdown",
   "metadata": {},
   "source": [
    "### Model Parameters "
   ]
  },
  {
   "cell_type": "code",
   "execution_count": 6,
   "metadata": {},
   "outputs": [
    {
     "data": {
      "text/plain": [
       "[300, 300, 192, 192]"
      ]
     },
     "metadata": {},
     "output_type": "display_data"
    },
    {
     "data": {
      "text/plain": [
       "[155, 155, 155, 155]"
      ]
     },
     "metadata": {},
     "output_type": "display_data"
    }
   ],
   "source": [
    "# total number of boxes to be packed\n",
    "n = len(items.keys())\n",
    "# total number of available ULDs\n",
    "m = len(ulds.keys())\n",
    "# dimensions of items\n",
    "li = [items[i][0] for i in range(n)] # length\n",
    "hi = [items[i][1] for i in range(n)] # height\n",
    "# dimensions of ULDs \n",
    "lc = [ulds[j][1][0] for j in range(m)]\n",
    "hc = [ulds[j][1][1] for j in range(m)]\n",
    "# maximum area of ULDs\n",
    "Aj = [lc[j]*hc[j] for j in range(len(lc))]\n",
    "# total area of items\n",
    "Ai = np.sum([li[i]*hi[i] for i in range(len(li))])\n",
    "# find largest uld length and width\n",
    "Lj_max = np.max(np.array(list(dict(ulds.values()).values()))[:,0])\n",
    "Hj_max = np.max(np.array(list(dict(ulds.values()).values()))[:,1])\n",
    "\n",
    "display(lc,hc)"
   ]
  },
  {
   "attachments": {},
   "cell_type": "markdown",
   "metadata": {},
   "source": [
    "### Model Variables"
   ]
  },
  {
   "cell_type": "code",
   "execution_count": 9,
   "metadata": {},
   "outputs": [
    {
     "name": "stdout",
     "output_type": "stream",
     "text": [
      "Creating Decision Variables\n",
      "--------------------\n"
     ]
    }
   ],
   "source": [
    "print('Creating Decision Variables')\n",
    "print('--------------------')\n",
    "\n",
    "### define decision variables ###\n",
    "\n",
    "p_ij = {} # if item i is in ULD j \n",
    "\n",
    "for i in range(n):\n",
    "    for j in range(m):\n",
    "        p_ij[i,j]=model.addVar(lb=0, ub=1, vtype=GRB.BINARY,name=\"p[%s,%s]\"%(i,j))\n",
    "\n",
    "u_j = {} # if container j is used \n",
    "a_j = {} # unused area of container j \n",
    "for j in range(m):\n",
    "    u_j[j] = model.addVar(lb=0, ub=1, vtype=GRB.BINARY, name=\"u[%s]\"%(j))\n",
    "    a_j[j] = model.addVar(lb=0, ub=Hj_max*Lj_max, vtype=GRB.CONTINUOUS, name=\"a[%s]\"%(j))\n",
    "\n",
    "x_i = {} # x location of lower left corner of item i\n",
    "z_i = {} # z location of lower left corner of item i\n",
    "x_i_ = {} # x location of upper right corner of item i\n",
    "z_i_ = {} # z location of upper right corner of item i \n",
    "\n",
    "for i in range(n):\n",
    "    x_i[i] = model.addVar(lb=0, ub=Lj_max, vtype=GRB.CONTINUOUS, name=\"x_[%s]\"%(i))\n",
    "    x_i_[i] = model.addVar(lb=0, ub=Lj_max, vtype=GRB.CONTINUOUS, name=\"x_[%s]_\"%(i))\n",
    "    z_i[i] = model.addVar(lb=0, ub=Hj_max, vtype=GRB.CONTINUOUS, name=\"z_[%s]\"%(i))\n",
    "    z_i_[i] = model.addVar(lb=0, ub=Hj_max, vtype=GRB.CONTINUOUS, name=\"z_[%s]_\"%(i))\n",
    "\n",
    "r_i11 = {} # if length is along x axis \n",
    "r_i13 = {} # if height is along x axis \n",
    "r_i31 = {} # if length is along z axis \n",
    "r_i33 = {} # if height is along z axis \n",
    "\n",
    "for i in range(n):\n",
    "    r_i11[i] = model.addVar(lb=0, ub=1, vtype=GRB.BINARY, name=\"r_[%s]11\"%(i))\n",
    "    r_i13[i] = model.addVar(lb=0, ub=1, vtype=GRB.BINARY, name=\"r_[%s]13\"%(i))\n",
    "    r_i31[i] = model.addVar(lb=0, ub=1, vtype=GRB.BINARY, name=\"r_[%s]31\"%(i))\n",
    "    r_i33[i] = model.addVar(lb=0, ub=1, vtype=GRB.BINARY, name=\"r_[%s]33\"%(i))\n",
    "\n",
    "xp_ik = {} # if item i is to the right of item k \n",
    "zp_ik = {} # if item i is above item k \n",
    "\n",
    "for i in range(n):\n",
    "    for k in range(i+1,n):\n",
    "        xp_ik[i,k] = model.addVar(lb=0, ub=1, vtype=GRB.BINARY, name=\"xp_ik[%s,%s]\"%(i,k))\n",
    "        zp_ik[i,k] = model.addVar(lb=0, ub=1, vtype=GRB.BINARY, name=\"zp_ik[%s,%s]\"%(i,k))\n",
    "\n",
    "r_iab = {} # if side b of item i is along axis a \n",
    "\n",
    "for i in range(n):\n",
    "    for a in [0,2]:\n",
    "        for b in [0,2]:\n",
    "            r_iab[i,a,b] = model.addVar(lb=0, ub=1, vtype=GRB.BINARY, name=\"r_iab[%s,%s,%s]\"%(i,a,b))\n",
    "\n",
    "model.update()     \n",
    "\n"
   ]
  },
  {
   "attachments": {},
   "cell_type": "markdown",
   "metadata": {},
   "source": [
    "### Model Constraints"
   ]
  },
  {
   "cell_type": "code",
   "execution_count": 10,
   "metadata": {},
   "outputs": [
    {
     "name": "stdout",
     "output_type": "stream",
     "text": [
      "Creating Constraints\n",
      "--------------------\n"
     ]
    },
    {
     "data": {
      "text/plain": [
       "'\\n# item dimensions must be less than or equal to the dimensions of the container\\nfor j in range(m):\\n    model.addConstr(p_ij[i,j] * (x_i_[i] if r_i11[i] else z_i_ for i in range(n) <= lc[j]*u_j[j]))\\n    model.addConstr(p_ij[i,j] * (z_i_[i] if r_i13[i] else x_i_ for i in range(n) <= hc[j]*u_j[j]))\\n'"
      ]
     },
     "execution_count": 10,
     "metadata": {},
     "output_type": "execute_result"
    }
   ],
   "source": [
    "print('Creating Constraints')\n",
    "print('--------------------')\n",
    "\n",
    "# item i is constrained to single uld j (4)\n",
    "for i in range(n):\n",
    "    for j in range(m):\n",
    "        lhs = LinExpr()\n",
    "        lhs += p_ij[i,j]\n",
    "        model.addConstr(lhs=lhs, sense=GRB.EQUAL, rhs=1)\n",
    "\n",
    "# the horizontal position of each item i is constrained by the length of the container j (5)\n",
    "for i in range(n):\n",
    "    for j in range(m):\n",
    "        lhs = LinExpr()\n",
    "        lhs += x_i_[i]\n",
    "        model.addConstr(lhs=lhs, sense=GRB.LESS_EQUAL, rhs=lc[j]*p_ij[i,j])\n",
    "\n",
    "# the vertical position of each item i is constrained by the height of the container j (7)\n",
    "for i in range(n):\n",
    "    for j in range(m):\n",
    "        lhs = LinExpr()\n",
    "        lhs += z_i_[i]\n",
    "        model.addConstr(lhs=lhs, sense=GRB.LESS_EQUAL, rhs=hc[j]*p_ij[i,j])\n",
    "\n",
    "# item length is length or height (8 & 10)\n",
    "for i in range(n):\n",
    "    lhs = LinExpr()\n",
    "    lhs += x_i_[i]-x_i[i]\n",
    "    model.addConstr(lhs=lhs, sense=GRB.EQUAL, rhs=r_i11[i]*li[i] + r_i13[i]*hi[i])\n",
    "    lhs = LinExpr()\n",
    "    lhs += z_i_[i]-z_i[i]\n",
    "    model.addConstr(lhs=lhs, sense=GRB.EQUAL, rhs=r_i31[i]*li[i] + r_i33[i]*hi[i])\n",
    "\n",
    "# side b of item i must only be along 1 axis a (11)\n",
    "for i in range(n):\n",
    "    for b in [0,2]:\n",
    "        for a in [0,2]:\n",
    "            lhs = LinExpr()\n",
    "            lhs += r_iab[i,a,b]\n",
    "            model.addConstr(lhs=lhs, sense=GRB.EQUAL, rhs=1)\n",
    "\n",
    "# axis a must only be along 1 side b of item i (12)\n",
    "for i in range(n):\n",
    "    for a in [0,2]:\n",
    "        for b in [0,2]:\n",
    "            lhs = LinExpr()\n",
    "            lhs += r_iab[i,a,b]\n",
    "            model.addConstr(lhs=lhs, sense=GRB.EQUAL, rhs=1)   \n",
    "\n",
    "# ensure no overlap of items i in container j (14, 15 & 18)\n",
    "for i in range(n):\n",
    "    for k in range(i+1,n):\n",
    "        lhs = LinExpr()\n",
    "        lhs += x_i_[k]\n",
    "        model.addConstr(lhs=lhs, sense=GRB.LESS_EQUAL, rhs=x_i[i]+(1-xp_ik[i,k])*Lj_max)\n",
    "\n",
    "for i in range(n):\n",
    "    for k in range(i+1,n):\n",
    "        lhs = LinExpr()\n",
    "        lhs += x_i[i]+1\n",
    "        model.addConstr(lhs=lhs, sense=GRB.LESS_EQUAL, rhs=x_i_[k]+xp_ik[i,k]*Lj_max)\n",
    "\n",
    "for i in range(n):\n",
    "    for k in range(i+1,n):\n",
    "        lhs = LinExpr()\n",
    "        lhs += z_i_[k]\n",
    "        model.addConstr(lhs=lhs, sense=GRB.LESS_EQUAL, rhs=z_i[i]+(1-zp_ik[i,k])*Hj_max)\n",
    "\n",
    "'''\n",
    "# item dimensions must be less than or equal to the dimensions of the container\n",
    "for j in range(m):\n",
    "    model.addConstr(p_ij[i,j] * (x_i_[i] if r_i11[i] else z_i_ for i in range(n) <= lc[j]*u_j[j]))\n",
    "    model.addConstr(p_ij[i,j] * (z_i_[i] if r_i13[i] else x_i_ for i in range(n) <= hc[j]*u_j[j]))\n",
    "'''"
   ]
  },
  {
   "attachments": {},
   "cell_type": "markdown",
   "metadata": {},
   "source": [
    "### Model Objective"
   ]
  },
  {
   "cell_type": "code",
   "execution_count": null,
   "metadata": {},
   "outputs": [],
   "source": []
  }
 ],
 "metadata": {
  "kernelspec": {
   "display_name": "Python 3",
   "language": "python",
   "name": "python3"
  },
  "language_info": {
   "codemirror_mode": {
    "name": "ipython",
    "version": 3
   },
   "file_extension": ".py",
   "mimetype": "text/x-python",
   "name": "python",
   "nbconvert_exporter": "python",
   "pygments_lexer": "ipython3",
   "version": "3.10.5"
  },
  "orig_nbformat": 4
 },
 "nbformat": 4,
 "nbformat_minor": 2
}
