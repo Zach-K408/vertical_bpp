{
 "cells": [
  {
   "attachments": {},
   "cell_type": "markdown",
   "metadata": {},
   "source": [
    "# Vertical Bin Packing Problem\n",
    "\n",
    "- Airport and Cargo Operations (AE4446)\n",
    "- Zach Kelly (5901405), Timotei Dudas ()\n",
    "- May 5th, 2023"
   ]
  },
  {
   "attachments": {},
   "cell_type": "markdown",
   "metadata": {},
   "source": [
    "### Imports"
   ]
  },
  {
   "cell_type": "code",
   "execution_count": 3,
   "metadata": {},
   "outputs": [],
   "source": [
    "import pandas as pd\n",
    "import numpy as np \n",
    "import gurobipy as gp\n",
    "from gurobipy import Model, GRB"
   ]
  },
  {
   "attachments": {},
   "cell_type": "markdown",
   "metadata": {},
   "source": [
    "### Input Data"
   ]
  },
  {
   "cell_type": "code",
   "execution_count": 4,
   "metadata": {},
   "outputs": [
    {
     "name": "stdout",
     "output_type": "stream",
     "text": [
      "----- ULDs -----\n"
     ]
    },
    {
     "data": {
      "text/plain": [
       "{0: (0, [300, 155, 2, 140, 0, 0, 0]),\n",
       " 1: (0, [300, 155, 2, 140, 0, 0, 0]),\n",
       " 2: (1, [192, 155, 2, 200, 0, 0, 0]),\n",
       " 3: (1, [192, 155, 2, 200, 0, 0, 0])}"
      ]
     },
     "metadata": {},
     "output_type": "display_data"
    },
    {
     "name": "stdout",
     "output_type": "stream",
     "text": [
      "----- Items -----\n"
     ]
    },
    {
     "data": {
      "text/plain": [
       "{0: (98, 50, 1, 0, 0, 0),\n",
       " 1: (89, 46, 1, 0, 0, 0),\n",
       " 2: (64, 24, 1, 0, 0, 0),\n",
       " 3: (93, 29, 1, 1, 0, 0),\n",
       " 4: (114, 54, 1, 1, 0, 0),\n",
       " 5: (95, 60, 1, 0, 0, 0),\n",
       " 6: (63, 28, 1, 0, 0, 0),\n",
       " 7: (100, 46, 0, 0, 0, 0),\n",
       " 8: (52, 61, 1, 0, 0, 0),\n",
       " 9: (45, 46, 1, 0, 0, 0),\n",
       " 10: (111, 32, 1, 0, 0, 0),\n",
       " 11: (109, 38, 1, 0, 1, 0),\n",
       " 12: (97, 57, 1, 0, 0, 0),\n",
       " 13: (51, 29, 1, 0, 0, 0),\n",
       " 14: (86, 54, 1, 0, 0, 0),\n",
       " 15: (114, 31, 1, 1, 0, 0),\n",
       " 16: (81, 47, 1, 0, 0, 0),\n",
       " 17: (78, 25, 1, 0, 0, 0),\n",
       " 18: (78, 44, 1, 0, 0, 0),\n",
       " 19: (68, 33, 1, 0, 0, 0),\n",
       " 20: (51, 45, 1, 0, 0, 0),\n",
       " 21: (84, 36, 1, 0, 0, 1),\n",
       " 22: (66, 35, 0, 0, 0, 0),\n",
       " 23: (68, 42, 1, 1, 0, 0),\n",
       " 24: (108, 57, 1, 1, 1, 0)}"
      ]
     },
     "metadata": {},
     "output_type": "display_data"
    }
   ],
   "source": [
    "# load data \n",
    "ulds = pd.read_pickle('../data/B.pickle')\n",
    "items = pd.read_pickle('../data/R.pickle')\n",
    "\n",
    "print('----- ULDs -----')\n",
    "display(ulds)\n",
    "print('----- Items -----')\n",
    "display(items)"
   ]
  },
  {
   "attachments": {},
   "cell_type": "markdown",
   "metadata": {},
   "source": [
    "### Setup Model"
   ]
  },
  {
   "cell_type": "code",
   "execution_count": 5,
   "metadata": {},
   "outputs": [
    {
     "name": "stdout",
     "output_type": "stream",
     "text": [
      "Creating Model\n",
      "--------------------\n",
      "Restricted license - for non-production use only - expires 2024-10-28\n"
     ]
    }
   ],
   "source": [
    "print('Creating Model')\n",
    "print('--------------------')\n",
    "model = Model()"
   ]
  },
  {
   "attachments": {},
   "cell_type": "markdown",
   "metadata": {},
   "source": [
    "### Model Parameters "
   ]
  },
  {
   "cell_type": "code",
   "execution_count": 13,
   "metadata": {},
   "outputs": [
    {
     "data": {
      "text/plain": [
       "300"
      ]
     },
     "metadata": {},
     "output_type": "display_data"
    },
    {
     "data": {
      "text/plain": [
       "155"
      ]
     },
     "metadata": {},
     "output_type": "display_data"
    }
   ],
   "source": [
    "# total number of boxes to be packed\n",
    "n = len(items.keys())\n",
    "# total number of available ULDs\n",
    "m = len(ulds.keys())\n",
    "# dimensions of items\n",
    "li = [items[i][0] for i in range(n)] # length\n",
    "hi = [items[i][1] for i in range(n)] # height\n",
    "# dimensions of ULDs \n",
    "lc = [300,192]\n",
    "hc = [155,155]\n",
    "# maximum area of ULDs\n",
    "ac = [lc[j]*hc[j] for j in range(len(lc))]\n",
    "\n",
    "# find largest uld length and width\n",
    "Lj_max = np.max(np.array(list(dict(ulds.values()).values()))[:,0])\n",
    "Hj_max = np.max(np.array(list(dict(ulds.values()).values()))[:,1])"
   ]
  },
  {
   "attachments": {},
   "cell_type": "markdown",
   "metadata": {},
   "source": [
    "### Model Variables"
   ]
  },
  {
   "cell_type": "code",
   "execution_count": 15,
   "metadata": {},
   "outputs": [
    {
     "name": "stdout",
     "output_type": "stream",
     "text": [
      "Creating Decision Variables\n",
      "--------------------\n"
     ]
    }
   ],
   "source": [
    "print('Creating Decision Variables')\n",
    "print('--------------------')\n",
    "\n",
    "### initialize decision variables ###\n",
    "# if item i is in ULD j (binary)\n",
    "p = {}\n",
    "# if container j is used (binary)\n",
    "u = {}\n",
    "# if item i is to the right of item k (binary)\n",
    "x = {}\n",
    "# if item i is above item k (binary)\n",
    "z = {}\n",
    "# orientation of item i w.r.t uld\n",
    "r = {}\n",
    "# location of item i\n",
    "xi = {}\n",
    "zi = {}\n",
    "\n",
    "'''\n",
    "# location of lower left corner of item i \n",
    "x1 = {}\n",
    "z1 = {}\n",
    "# location of upper right corner of item i\n",
    "x2 = {}\n",
    "z2 = {}\n",
    "'''\n",
    "\n",
    "### defining the possible inputs to our decision variables while defining the actual variable type itself ###\n",
    "# creating x and z decision variables\n",
    "# domain : all matches between different items\n",
    "for i in items.keys():\n",
    "    for k in items.keys():\n",
    "        if k != i:\n",
    "            x[i,k]=model.addVar(lb=0, ub=1, vtype=GRB.BINARY,name=\"x[%s,%s]\"%(i,k))\n",
    "            z[i,k]=model.addVar(lb=0, ub=1, vtype=GRB.BINARY,name=\"z[%s,%s]\"%(i,k))\n",
    "\n",
    "# creating p decision variable\n",
    "# domain : all matches between available items and bins\n",
    "for i in items.keys():\n",
    "    for j in ulds.keys():\n",
    "        p[i,j]=model.addVar(lb=0, ub=1, vtype=GRB.BINARY,name=\"p[%s,%s]\"%(i,j))\n",
    "\n",
    "# creating xi and zi decision variables\n",
    "for i in items.keys():\n",
    "    x[i]=model.addVar(lb=0, ub=Lj_max, vtype=GRB.CONTINUOUS,name=\"x[%s]\"%(i))\n",
    "    z[i]=model.addVar(lb=0, ub=Hj_max, vtype=GRB.CONTINUOUS,name=\"z[%s]\"%(i))\n",
    "\n",
    "# creating r decision variable\n",
    "for i in items.keys():\n",
    "    for aa in range(0,2):\n",
    "        for bb in range (0,2):\n",
    "            r[i,aa,bb]=model.addVar(lb=0, ub=1, vtype=GRB.BINARY,name=\"r[%s,%s,%s]\"%(i,aa,bb))\n",
    "\n",
    "model.update()     "
   ]
  },
  {
   "attachments": {},
   "cell_type": "markdown",
   "metadata": {},
   "source": [
    "### Model Constraints"
   ]
  },
  {
   "cell_type": "code",
   "execution_count": null,
   "metadata": {},
   "outputs": [],
   "source": []
  }
 ],
 "metadata": {
  "kernelspec": {
   "display_name": "Python 3",
   "language": "python",
   "name": "python3"
  },
  "language_info": {
   "codemirror_mode": {
    "name": "ipython",
    "version": 3
   },
   "file_extension": ".py",
   "mimetype": "text/x-python",
   "name": "python",
   "nbconvert_exporter": "python",
   "pygments_lexer": "ipython3",
   "version": "3.10.5"
  },
  "orig_nbformat": 4
 },
 "nbformat": 4,
 "nbformat_minor": 2
}
