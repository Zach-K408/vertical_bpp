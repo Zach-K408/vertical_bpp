{
 "cells": [
  {
   "attachments": {},
   "cell_type": "markdown",
   "metadata": {},
   "source": [
    "# Vertical Bin Packing Problem\n",
    "\n",
    "- Airport and Cargo Operations (AE4446)\n",
    "- Zach Kelly (5901405), Timotei Dudas ()\n",
    "- May 5th, 2023"
   ]
  },
  {
   "attachments": {},
   "cell_type": "markdown",
   "metadata": {},
   "source": [
    "### Imports"
   ]
  },
  {
   "cell_type": "code",
   "execution_count": 230,
   "metadata": {},
   "outputs": [],
   "source": [
    "import pandas as pd\n",
    "import numpy as np \n",
    "import gurobipy as gp\n",
    "from gurobipy import Model, GRB, GurobiError, quicksum, LinExpr"
   ]
  },
  {
   "attachments": {},
   "cell_type": "markdown",
   "metadata": {},
   "source": [
    "### Input Data"
   ]
  },
  {
   "cell_type": "code",
   "execution_count": 231,
   "metadata": {},
   "outputs": [
    {
     "name": "stdout",
     "output_type": "stream",
     "text": [
      "----- ULDs -----\n"
     ]
    },
    {
     "data": {
      "text/plain": [
       "{0: (0, [300, 155, 2, 140, 0, 0, 0]),\n",
       " 1: (0, [300, 155, 2, 140, 0, 0, 0]),\n",
       " 2: (1, [192, 155, 2, 200, 0, 0, 0]),\n",
       " 3: (1, [192, 155, 2, 200, 0, 0, 0])}"
      ]
     },
     "metadata": {},
     "output_type": "display_data"
    },
    {
     "name": "stdout",
     "output_type": "stream",
     "text": [
      "----- Items -----\n"
     ]
    },
    {
     "data": {
      "text/plain": [
       "{0: (98, 50, 1, 0, 0, 0),\n",
       " 1: (89, 46, 1, 0, 0, 0),\n",
       " 2: (64, 24, 1, 0, 0, 0),\n",
       " 3: (93, 29, 1, 1, 0, 0),\n",
       " 4: (114, 54, 1, 1, 0, 0),\n",
       " 5: (95, 60, 1, 0, 0, 0),\n",
       " 6: (63, 28, 1, 0, 0, 0),\n",
       " 7: (100, 46, 0, 0, 0, 0),\n",
       " 8: (52, 61, 1, 0, 0, 0),\n",
       " 9: (45, 46, 1, 0, 0, 0),\n",
       " 10: (111, 32, 1, 0, 0, 0),\n",
       " 11: (109, 38, 1, 0, 1, 0),\n",
       " 12: (97, 57, 1, 0, 0, 0),\n",
       " 13: (51, 29, 1, 0, 0, 0),\n",
       " 14: (86, 54, 1, 0, 0, 0),\n",
       " 15: (114, 31, 1, 1, 0, 0),\n",
       " 16: (81, 47, 1, 0, 0, 0),\n",
       " 17: (78, 25, 1, 0, 0, 0),\n",
       " 18: (78, 44, 1, 0, 0, 0),\n",
       " 19: (68, 33, 1, 0, 0, 0),\n",
       " 20: (51, 45, 1, 0, 0, 0),\n",
       " 21: (84, 36, 1, 0, 0, 1),\n",
       " 22: (66, 35, 0, 0, 0, 0),\n",
       " 23: (68, 42, 1, 1, 0, 0),\n",
       " 24: (108, 57, 1, 1, 1, 0)}"
      ]
     },
     "metadata": {},
     "output_type": "display_data"
    }
   ],
   "source": [
    "# load data \n",
    "ulds = pd.read_pickle('../data/B.pickle')\n",
    "items = pd.read_pickle('../data/R.pickle')\n",
    "\n",
    "print('----- ULDs -----')\n",
    "display(ulds)\n",
    "print('----- Items -----')\n",
    "display(items)"
   ]
  },
  {
   "cell_type": "code",
   "execution_count": 232,
   "metadata": {},
   "outputs": [],
   "source": [
    "# toy data\n",
    "ulds = {0: (0, [300, 155, 2, 140, 0, 0, 0]), 1: (1, [192, 155, 2, 200, 0, 0, 0])}\n",
    "\n",
    "items = {0: (98, 50, 1, 0, 0, 0),\n",
    " 1: (89, 46, 1, 0, 0, 0),\n",
    " 2: (64, 24, 1, 0, 0, 0),\n",
    " 3: (93, 29, 1, 1, 0, 0),\n",
    " 4: (114, 54, 1, 1, 0, 0),\n",
    " 5: (95, 60, 1, 0, 0, 0),\n",
    " 6: (63, 28, 1, 0, 0, 0),\n",
    " 7: (100, 46, 0, 0, 0, 0),\n",
    " 8: (52, 61, 1, 0, 0, 0),\n",
    " 9: (45, 46, 1, 0, 0, 0)}"
   ]
  },
  {
   "attachments": {},
   "cell_type": "markdown",
   "metadata": {},
   "source": [
    "### Setup Model"
   ]
  },
  {
   "cell_type": "code",
   "execution_count": 233,
   "metadata": {},
   "outputs": [
    {
     "name": "stdout",
     "output_type": "stream",
     "text": [
      "Creating Model\n",
      "--------------------\n"
     ]
    }
   ],
   "source": [
    "print('Creating Model')\n",
    "print('--------------------')\n",
    "model = Model()"
   ]
  },
  {
   "attachments": {},
   "cell_type": "markdown",
   "metadata": {},
   "source": [
    "### Model Parameters "
   ]
  },
  {
   "cell_type": "code",
   "execution_count": 234,
   "metadata": {},
   "outputs": [],
   "source": [
    "# total number of boxes to be packed\n",
    "n = len(items.keys())\n",
    "# total number of available ULDs\n",
    "m = len(ulds.keys())\n",
    "# dimensions of items\n",
    "li = [items[i][0] for i in range(n)] # length\n",
    "hi = [items[i][1] for i in range(n)] # height\n",
    "# dimensions of ULDs \n",
    "lc = [ulds[j][1][0] for j in range(m)]\n",
    "hc = [ulds[j][1][1] for j in range(m)]\n",
    "# maximum area of ULDs\n",
    "Aj = [lc[j]*hc[j] for j in range(len(lc))]\n",
    "# total area of items\n",
    "Ai = np.sum([li[i]*hi[i] for i in range(len(li))])\n",
    "# find largest uld length and width\n",
    "Lj_max = np.max(np.array(list(dict(ulds.values()).values()))[:,0])\n",
    "Hj_max = np.max(np.array(list(dict(ulds.values()).values()))[:,1])"
   ]
  },
  {
   "attachments": {},
   "cell_type": "markdown",
   "metadata": {},
   "source": [
    "### Model Variables"
   ]
  },
  {
   "cell_type": "code",
   "execution_count": 235,
   "metadata": {},
   "outputs": [
    {
     "name": "stdout",
     "output_type": "stream",
     "text": [
      "Creating Decision Variables\n",
      "--------------------\n"
     ]
    }
   ],
   "source": [
    "print('Creating Decision Variables')\n",
    "print('--------------------')\n",
    "\n",
    "### define decision variables ###\n",
    "\n",
    "p_ij = {} # if item i is in ULD j \n",
    "\n",
    "for i in range(n):\n",
    "    for j in range(m):\n",
    "        p_ij[i,j]=model.addVar(lb=0, ub=1, vtype=GRB.BINARY,name=\"p[%s,%s]\"%(i,j))\n",
    "\n",
    "u_j = {} # if container j is used \n",
    "a_j = {} # unused area of container j \n",
    "for j in range(m):\n",
    "    u_j[j] = model.addVar(lb=0, ub=1, vtype=GRB.BINARY, name=\"u[%s]\"%(j))\n",
    "    a_j[j] = model.addVar(lb=0, ub=Hj_max*Lj_max, vtype=GRB.CONTINUOUS, name=\"a[%s]\"%(j))\n",
    "\n",
    "x_i = {} # x location of lower left corner of item i\n",
    "z_i = {} # z location of lower left corner of item i\n",
    "x_i_ = {} # x location of upper right corner of item i\n",
    "z_i_ = {} # z location of upper right corner of item i \n",
    "\n",
    "for i in range(n):\n",
    "    x_i[i] = model.addVar(lb=0, ub=Lj_max, vtype=GRB.CONTINUOUS, name=\"x_[%s]\"%(i))\n",
    "    x_i_[i] = model.addVar(lb=0, ub=Lj_max, vtype=GRB.CONTINUOUS, name=\"x_[%s]_\"%(i))\n",
    "    z_i[i] = model.addVar(lb=0, ub=Hj_max, vtype=GRB.CONTINUOUS, name=\"z_[%s]\"%(i))\n",
    "    z_i_[i] = model.addVar(lb=0, ub=Hj_max, vtype=GRB.CONTINUOUS, name=\"z_[%s]_\"%(i))\n",
    "\n",
    "r_i11 = {} # if length is along x axis \n",
    "r_i13 = {} # if height is along x axis \n",
    "r_i31 = {} # if length is along z axis \n",
    "r_i33 = {} # if height is along z axis \n",
    "\n",
    "for i in range(n):\n",
    "    r_i11[i] = model.addVar(lb=0, ub=1, vtype=GRB.BINARY, name=\"r_[%s]11\"%(i))\n",
    "    r_i13[i] = model.addVar(lb=0, ub=1, vtype=GRB.BINARY, name=\"r_[%s]13\"%(i))\n",
    "    r_i31[i] = model.addVar(lb=0, ub=1, vtype=GRB.BINARY, name=\"r_[%s]31\"%(i))\n",
    "    r_i33[i] = model.addVar(lb=0, ub=1, vtype=GRB.BINARY, name=\"r_[%s]33\"%(i))\n",
    "\n",
    "xp_ik = {} # if item i is to the right of item k \n",
    "xp_ki = {} # if item i is to the left of item k \n",
    "zp_ik = {} # if item i is above item k \n",
    "\n",
    "for i in range(n):\n",
    "    for k in range(i+1,n):\n",
    "        xp_ik[i,k] = model.addVar(lb=0, ub=1, vtype=GRB.BINARY, name=\"xp_ik[%s,%s]\"%(i,k))\n",
    "        xp_ki[i,k] = model.addVar(lb=0, ub=1, vtype=GRB.BINARY, name=\"xp_ki[%s,%s]\"%(i,k))\n",
    "        zp_ik[i,k] = model.addVar(lb=0, ub=1, vtype=GRB.BINARY, name=\"zp_ik[%s,%s]\"%(i,k))\n",
    "\n",
    "r_iab = {} # if side b of item i is along axis a \n",
    "\n",
    "for i in range(n):\n",
    "    for a in range(0,2):\n",
    "        for b in range(0,2):\n",
    "            r_iab[i,a,b] = model.addVar(lb=0, ub=1, vtype=GRB.BINARY, name=\"r_iab[%s,%s,%s]\"%(i,a,b))\n",
    "\n",
    "lv = {} # if the length of the item can be in a vertical position\n",
    "hv = {} # if the height of the item can be in a vertical position\n",
    "\n",
    "for i in range(n):\n",
    "    lv[i] = model.addVar(lb=0, ub=1, vtype=GRB.BINARY, name=\"lv[%s]\"%(i))\n",
    "    hv[i] = model.addVar(lb=0, ub=1, vtype=GRB.BINARY, name=\"hv[%s]\"%(i))\n",
    "\n",
    "g_i = {} # if item i is on the ground\n",
    "\n",
    "for i in range(n):\n",
    "    g_i[i] = model.addVar(lb=0, ub=1, vtype=GRB.BINARY, name=\"g_i[%s]\"%(i))\n",
    "\n",
    "h_ik = {} # if box k has a suitable height to support box i\n",
    "\n",
    "for i in range(n):\n",
    "    for k in range(i+1,n):\n",
    "        h_ik[i,k] = model.addVar(lb=0, ub=1, vtype=GRB.BINARY, name=\"g_ik[%s,%s]\"%(i,k))\n",
    "\n",
    "o_ik = {} # if the projection of the items i and k onto the x plane have a nonempty intersection\n",
    "\n",
    "for i in range(n):\n",
    "    for k in range(i+1,n):\n",
    "        o_ik[i,k] = model.addVar(lb=0, ub=1, vtype=GRB.BINARY, name=\"o_ik[%s,%s]\"%(i,k))\n",
    "\n",
    "s_ik = {} # 1 if item k supports item i and are in the same container\n",
    "\n",
    "for i in range(n):\n",
    "    for k in range(i+1,n):\n",
    "        s_ik[i,k] = model.addVar(lb=0, ub=1, vtype=GRB.BINARY, name=\"s_ik[%s,%s]\"%(i,k))\n",
    "\n",
    "n_ik1 = {} # if left side of item k is less than or equal to item i\n",
    "\n",
    "for i in range(n):\n",
    "    for k in range(i+1,n):\n",
    "        n_ik1[i,k] = model.addVar(lb=0, ub=1, vtype=GRB.BINARY, name=\"n_ik1[%s,%s]\"%(i,k))\n",
    "\n",
    "n_ik3 = {} # if right side of item i is less than or equal to item k\n",
    "\n",
    "for i in range(n):\n",
    "    for k in range(i+1,n):\n",
    "        n_ik3[i,k] = model.addVar(lb=0, ub=1, vtype=GRB.BINARY, name=\"n_ik3[%s,%s]\"%(i,k))\n",
    "\n",
    "b_ikl = {} # if vertex l of item i is supported by item k\n",
    "\n",
    "for i in range(n):\n",
    "    for k in range(n):\n",
    "        if i != k:\n",
    "            for l in range(1,3):\n",
    "                b_ikl[i,k,l] = model.addVar(lb=0, ub=1, vtype=GRB.BINARY, name=\"b_ikl[%s,%s,%s]\"%(i,k,l))\n",
    "\n",
    "v_ik = {} # represents |z_i_[k]-z_i[i]|\n",
    "\n",
    "for i in range(n):\n",
    "    for k in range(i+1,n):\n",
    "        v_ik[i,k] = model.addVar(lb=0,ub=Hj_max, vtype=GRB.CONTINUOUS, name=\"v_ik[%s,%s]\"%(i,k))\n",
    "\n",
    "m_ik = {} # if z_i_[k] >= z_i[i]\n",
    "\n",
    "for i in range(n):\n",
    "    for k in range(i+1,n):\n",
    "        m_ik[i,k] = model.addVar(lb=0,ub=1, vtype=GRB.BINARY, name=\"m_ik[%s,%s]\"%(i,k))\n",
    "\n",
    "model.update()     "
   ]
  },
  {
   "attachments": {},
   "cell_type": "markdown",
   "metadata": {},
   "source": [
    "### Model Constraints"
   ]
  },
  {
   "cell_type": "code",
   "execution_count": 236,
   "metadata": {},
   "outputs": [
    {
     "name": "stdout",
     "output_type": "stream",
     "text": [
      "Creating Constraints\n",
      "--------------------\n"
     ]
    }
   ],
   "source": [
    "print('Creating Constraints')\n",
    "print('--------------------')\n",
    "\n",
    "# item i is constrained to single uld j (4)\n",
    "for i in range(n):\n",
    "    lhs = LinExpr()\n",
    "    for j in range(m):\n",
    "        lhs += p_ij[i,j]\n",
    "    model.addConstr(lhs=lhs, sense=GRB.EQUAL, rhs=1, name='constraint_4')\n",
    "\n",
    "# the horizontal position of each item i is constrained by the length of the container j (5)\n",
    "for i in range(n):\n",
    "    for j in range(m):\n",
    "        lhs = LinExpr()\n",
    "        lhs += x_i_[i]\n",
    "        model.addConstr(lhs=lhs, sense=GRB.LESS_EQUAL, rhs=lc[j]*p_ij[i,j], name='constraint_5')\n",
    "\n",
    "# the vertical position of each item i is constrained by the height of the container j (7)\n",
    "for i in range(n):\n",
    "    for j in range(m):\n",
    "        lhs = LinExpr()\n",
    "        lhs += z_i_[i]\n",
    "        model.addConstr(lhs=lhs, sense=GRB.LESS_EQUAL, rhs=hc[j]*p_ij[i,j], name='constraint_7')\n",
    "\n",
    "# item length is length or height (8 & 10)\n",
    "for i in range(n):\n",
    "    lhs = LinExpr()\n",
    "    lhs += x_i_[i]-x_i[i]\n",
    "    model.addConstr(lhs=lhs, sense=GRB.EQUAL, rhs=r_i11[i]*li[i] + r_i13[i]*hi[i], name='constraint_8')\n",
    "    lhs = LinExpr()\n",
    "    lhs += z_i_[i]-z_i[i]\n",
    "    model.addConstr(lhs=lhs, sense=GRB.EQUAL, rhs=r_i31[i]*li[i] + r_i33[i]*hi[i], name='constraint_10')\n",
    "\n",
    "# side b of item i must only be along 1 axis a (11)\n",
    "for i in range(n):\n",
    "    for b in range(0,2):\n",
    "        for a in range(0,2):\n",
    "            lhs = LinExpr()\n",
    "            lhs += r_iab[i,a,b]\n",
    "            model.addConstr(lhs=lhs, sense=GRB.EQUAL, rhs=1, name='constraint_11')\n",
    "\n",
    "# axis a must only be along 1 side b of item i (12)\n",
    "for i in range(n):\n",
    "    for a in range(0,2):\n",
    "        for b in range(0,2):\n",
    "            lhs = LinExpr()\n",
    "            lhs += r_iab[i,a,b]\n",
    "            model.addConstr(lhs=lhs, sense=GRB.EQUAL, rhs=1, name='constraint_12')   \n",
    "\n",
    "## No Overlap Constraints ##\n",
    "# ensure no overlap of items i in container j (14, 15 & 18)\n",
    "for i in range(n):\n",
    "    for k in range(i+1,n):\n",
    "        lhs = LinExpr()\n",
    "        lhs += x_i_[k]\n",
    "        model.addConstr(lhs=lhs, sense=GRB.LESS_EQUAL, rhs=x_i[i]+(1-xp_ik[i,k])*Lj_max, name='constraint_14')\n",
    "\n",
    "for i in range(n):\n",
    "    for k in range(i+1,n):\n",
    "        lhs = LinExpr()\n",
    "        lhs += x_i[i]+1\n",
    "        model.addConstr(lhs=lhs, sense=GRB.LESS_EQUAL, rhs=x_i_[k]+xp_ik[i,k]*Lj_max, name='constraint_15')\n",
    "\n",
    "for i in range(n):\n",
    "    for k in range(i+1,n):\n",
    "        lhs = LinExpr()\n",
    "        lhs += z_i_[k]\n",
    "        model.addConstr(lhs=lhs, sense=GRB.LESS_EQUAL, rhs=z_i[i]+(1-zp_ik[i,k])*Hj_max, name='constraint_18')\n",
    "\n",
    "## Orientation Constraints ##\n",
    "# if length of box can be in a vertical orientation (19)\n",
    "for i in range(n):\n",
    "    lhs = LinExpr\n",
    "    lhs = r_i31[i]\n",
    "    model.addConstr(lhs=lhs, sense=GRB.LESS_EQUAL, rhs=lv[i], name='constraint_19')\n",
    "\n",
    "# if height of box can be in a vertical orientation (21)\n",
    "for i in range(n):\n",
    "    lhs = LinExpr\n",
    "    lhs = r_i33[i]\n",
    "    model.addConstr(lhs=lhs, sense=GRB.LESS_EQUAL, rhs=hv[i], name='constraint_21')\n",
    "\n",
    "## Stability Constraints ##\n",
    "# item i must have 2 vertices supported by another item k if not supported by the ground (26)\n",
    "for i in range(n):\n",
    "    for k in range(n):\n",
    "        if i != k:\n",
    "            for l in range(1,3):\n",
    "                lhs += 2*g_i[i] + b_ikl[i,k,l]\n",
    "\n",
    "    model.addConstr(lhs=lhs, sense=GRB.EQUAL, rhs=2, name='constraint_26_modified')\n",
    "    lhs = LinExpr()\n",
    "\n",
    "# domain of lower vertex of item i z_i (27)\n",
    "for i in range(n):\n",
    "    lhs = LinExpr()\n",
    "    lhs += z_i[i]\n",
    "    model.addConstr(lhs=lhs, sense=GRB.LESS_EQUAL, rhs=(1-g_i[i])*Hj_max, name='constraint_27')\n",
    "\n",
    "# defining variable h_ik using v_ik where v_ik = |z_i_[k] - z_i[i]| (28-33)\n",
    "for i in range(n):\n",
    "    for k in range(i+1,n):\n",
    "        lhs = LinExpr()\n",
    "        lhs = z_i_[k]-z_i[i]\n",
    "        model.addConstr(lhs=lhs, sense=GRB.LESS_EQUAL, rhs=v_ik[i,k], name='constraint_28')\n",
    "        lhs = LinExpr()\n",
    "        lhs = z_i[i]-z_i_[k]\n",
    "        model.addConstr(lhs=lhs, sense=GRB.LESS_EQUAL, rhs=v_ik[i,k], name='constraint_29')\n",
    "        lhs = LinExpr()\n",
    "        lhs = v_ik[i,k]\n",
    "        model.addConstr(lhs=lhs, sense=GRB.LESS_EQUAL, rhs=z_i_[k]-z_i[i]+2*Hj_max*(1-m_ik[i,k]), name='constraint_30')\n",
    "        model.addConstr(lhs=lhs, sense=GRB.LESS_EQUAL, rhs=z_i[i]-z_i_[k]+2*Hj_max*m_ik[i,k], name='constraint_31')\n",
    "        lhs = LinExpr()\n",
    "        lhs = h_ik[i,k]\n",
    "        model.addConstr(lhs=lhs, sense=GRB.LESS_EQUAL, rhs=v_ik[i,k], name='constraint_32')\n",
    "        lhs = LinExpr()\n",
    "        lhs = v_ik[i,k]\n",
    "        model.addConstr(lhs=lhs, sense=GRB.LESS_EQUAL, rhs=h_ik[i,k]*Hj_max, name='constraint_33')\n",
    "\n",
    "# if item i and k projections dont overlap then 1 <= 1 <= 2 (34 & 35)\n",
    "for i in range(n):\n",
    "    for k in range(i+1,n):\n",
    "        lhs = LinExpr()\n",
    "        lhs = o_ik[i,k]\n",
    "        model.addConstr(lhs=lhs, sense=GRB.LESS_EQUAL, rhs=xp_ik[i,k]+xp_ki[i,k], name='constraint_34')\n",
    "        lhs = LinExpr()\n",
    "        lhs = xp_ik[i,k]+xp_ki[i,k]\n",
    "        model.addConstr(lhs=lhs, sense=GRB.LESS_EQUAL, rhs=2*o_ik[i,k], name='constraint_34')\n",
    "\n",
    "        lhs = LinExpr()\n",
    "        lhs = 1-s_ik[i,k]\n",
    "        model.addConstr(lhs=lhs, sense=GRB.LESS_EQUAL, rhs=h_ik[i,k]+o_ik[i,k], name='constraint_35')\n",
    "        lhs = LinExpr()\n",
    "        lhs = h_ik[i,k]+o_ik[i,k]\n",
    "        model.addConstr(lhs=lhs, sense=GRB.LESS_EQUAL, rhs=2*(1-s_ik[i,k]), name='constraint_35')\n",
    "\n",
    "# if k supports i then item i and k must be in the same container j (36 & 37)\n",
    "for i in range(n):\n",
    "    for k in range(i+1,n):\n",
    "        for j in range(m):\n",
    "            lhs = LinExpr()\n",
    "            lhs = p_ij[i,j] - p_ij[k,j]\n",
    "            model.addConstr(lhs=lhs, sense=GRB.LESS_EQUAL, rhs=1-s_ik[i,k], name='constraint_36')\n",
    "            lhs = LinExpr()\n",
    "            lhs = p_ij[k,j] - p_ij[i,j]\n",
    "            model.addConstr(lhs=lhs, sense=GRB.LESS_EQUAL, rhs=1-s_ik[i,k], name='constraint_37')\n",
    "\n",
    "# (38)\n",
    "for i in range(n):\n",
    "    for k in range(i+1,n):\n",
    "        for l in range(1,3):\n",
    "            lhs = LinExpr()\n",
    "            lhs = b_ikl[i,k,l]\n",
    "            model.addConstr(lhs=lhs, sense=GRB.LESS_EQUAL, rhs=s_ik[i,k], name='constraint_38')\n",
    "\n",
    "# (39-42) ???\n",
    "for i in range(n):\n",
    "    for k in range(i+1,n):\n",
    "        lhs = LinExpr()\n",
    "        lhs = n_ik1[i,k] + n_ik3[i,k]\n",
    "        model.addConstr(lhs=lhs, sense=GRB.LESS_EQUAL, rhs=2*(1-b_ikl[i,k,1]), name='constraint_39')\n",
    "# (43 & 45)\n",
    "for i in range(n):\n",
    "    for k in range(i+1,n):\n",
    "        lhs = LinExpr()\n",
    "        lhs = x_i[k]\n",
    "        model.addConstr(lhs=lhs, sense=GRB.LESS_EQUAL, rhs=x_i[i]+n_ik1[i,k]*Lj_max, name='constraint_43')\n",
    "        lhs = LinExpr()\n",
    "        lhs = x_i_[i]\n",
    "        model.addConstr(lhs=lhs, sense=GRB.LESS_EQUAL, rhs=x_i_[k]+n_ik3[i,k]*Lj_max, name='constraint_45')\n",
    "\n",
    "# (49 & 50) ???\n",
    "\n",
    "model.update()"
   ]
  },
  {
   "attachments": {},
   "cell_type": "markdown",
   "metadata": {},
   "source": [
    "### Model Objective"
   ]
  },
  {
   "cell_type": "code",
   "execution_count": 237,
   "metadata": {},
   "outputs": [],
   "source": [
    "# determine the total unused area by summing the unused area from each used container\n",
    "for j in range(m):\n",
    "        a_j[j] += lc[j]*hc[j]*u_j[j] - quicksum(li[i]*hi[i]*p_ij[i,j] for i in range(n))\n",
    "\n",
    "# define objective\n",
    "for j in range(m):\n",
    "    model.setObjective(a_j[j], GRB.MINIMIZE)\n",
    "\n",
    "model.update()"
   ]
  },
  {
   "attachments": {},
   "cell_type": "markdown",
   "metadata": {},
   "source": [
    "### Export Model"
   ]
  },
  {
   "cell_type": "code",
   "execution_count": 238,
   "metadata": {},
   "outputs": [
    {
     "name": "stdout",
     "output_type": "stream",
     "text": [
      "Warning: linear constraint 0 and linear constraint 1 have the same name \"constraint_4\"\n"
     ]
    }
   ],
   "source": [
    "model.write('2D_Vertical_BPP.lp')"
   ]
  },
  {
   "attachments": {},
   "cell_type": "markdown",
   "metadata": {},
   "source": [
    "### Solve"
   ]
  },
  {
   "cell_type": "code",
   "execution_count": 239,
   "metadata": {},
   "outputs": [
    {
     "name": "stdout",
     "output_type": "stream",
     "text": [
      "Set parameter MIPGap to value 0.001\n",
      "Set parameter TimeLimit to value 7200\n",
      "Set parameter LogFile to value \"2D_BPP.log\"\n",
      "Gurobi Optimizer version 10.0.1 build v10.0.1rc0 (win64)\n",
      "\n",
      "CPU model: Intel(R) Core(TM) i7-7700HQ CPU @ 2.80GHz, instruction set [SSE2|AVX|AVX2]\n",
      "Thread count: 4 physical cores, 8 logical processors, using up to 8 threads\n",
      "\n",
      "Optimize a model with 1180 rows, 804 columns and 3391 nonzeros\n",
      "Model fingerprint: 0xa7b9e281\n",
      "Variable types: 87 continuous, 717 integer (717 binary)\n",
      "Coefficient statistics:\n",
      "  Matrix range     [1e+00, 3e+02]\n",
      "  Objective range  [1e+00, 3e+04]\n",
      "  Bounds range     [1e+00, 5e+04]\n",
      "  RHS range        [1e+00, 3e+02]\n",
      "Presolve removed 639 rows and 659 columns\n",
      "Presolve time: 0.00s\n",
      "\n",
      "Explored 0 nodes (0 simplex iterations) in 0.02 seconds (0.00 work units)\n",
      "Thread count was 1 (of 8 available processors)\n",
      "\n",
      "Solution count 0\n",
      "\n",
      "Model is infeasible\n",
      "Best objective -, best bound -, gap -\n"
     ]
    },
    {
     "ename": "AttributeError",
     "evalue": "Unable to retrieve attribute 'x'",
     "output_type": "error",
     "traceback": [
      "\u001b[1;31m---------------------------------------------------------------------------\u001b[0m",
      "\u001b[1;31mAttributeError\u001b[0m                            Traceback (most recent call last)",
      "\u001b[1;32mc:\\Users\\zachk\\Documents\\ubco\\year5\\delft_term2\\quarter3\\AE4446\\project\\vertical_bpp\\main.ipynb Cell 20\u001b[0m in \u001b[0;36m1\n\u001b[0;32m      <a href='vscode-notebook-cell:/c%3A/Users/zachk/Documents/ubco/year5/delft_term2/quarter3/AE4446/project/vertical_bpp/main.ipynb#X25sZmlsZQ%3D%3D?line=8'>9</a>\u001b[0m \u001b[39m# Retrieve variable names and values\u001b[39;00m\n\u001b[0;32m     <a href='vscode-notebook-cell:/c%3A/Users/zachk/Documents/ubco/year5/delft_term2/quarter3/AE4446/project/vertical_bpp/main.ipynb#X25sZmlsZQ%3D%3D?line=9'>10</a>\u001b[0m \u001b[39mfor\u001b[39;00m v \u001b[39min\u001b[39;00m model\u001b[39m.\u001b[39mgetVars():\n\u001b[1;32m---> <a href='vscode-notebook-cell:/c%3A/Users/zachk/Documents/ubco/year5/delft_term2/quarter3/AE4446/project/vertical_bpp/main.ipynb#X25sZmlsZQ%3D%3D?line=10'>11</a>\u001b[0m     solution\u001b[39m.\u001b[39mappend([v\u001b[39m.\u001b[39mvarName,v\u001b[39m.\u001b[39mx])\n\u001b[0;32m     <a href='vscode-notebook-cell:/c%3A/Users/zachk/Documents/ubco/year5/delft_term2/quarter3/AE4446/project/vertical_bpp/main.ipynb#X25sZmlsZQ%3D%3D?line=12'>13</a>\u001b[0m solution\n",
      "File \u001b[1;32msrc\\gurobipy\\var.pxi:125\u001b[0m, in \u001b[0;36mgurobipy.Var.__getattr__\u001b[1;34m()\u001b[0m\n",
      "File \u001b[1;32msrc\\gurobipy\\var.pxi:153\u001b[0m, in \u001b[0;36mgurobipy.Var.getAttr\u001b[1;34m()\u001b[0m\n",
      "File \u001b[1;32msrc\\gurobipy\\attrutil.pxi:100\u001b[0m, in \u001b[0;36mgurobipy.__getattr\u001b[1;34m()\u001b[0m\n",
      "\u001b[1;31mAttributeError\u001b[0m: Unable to retrieve attribute 'x'"
     ]
    }
   ],
   "source": [
    "model.setParam('MIPGap',0.001)\n",
    "model.setParam('TimeLimit',2*3600)\n",
    "model.params.LogFile='2D_BPP.log'\n",
    "\n",
    "model.optimize()\n",
    "\n",
    "solution = []\n",
    "\n",
    "# Retrieve variable names and values\n",
    "for v in model.getVars():\n",
    "    solution.append([v.varName,v.x])\n",
    "\n",
    "solution"
   ]
  }
 ],
 "metadata": {
  "kernelspec": {
   "display_name": "Python 3",
   "language": "python",
   "name": "python3"
  },
  "language_info": {
   "codemirror_mode": {
    "name": "ipython",
    "version": 3
   },
   "file_extension": ".py",
   "mimetype": "text/x-python",
   "name": "python",
   "nbconvert_exporter": "python",
   "pygments_lexer": "ipython3",
   "version": "3.10.5"
  },
  "orig_nbformat": 4
 },
 "nbformat": 4,
 "nbformat_minor": 2
}
