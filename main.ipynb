{
 "cells": [
  {
   "attachments": {},
   "cell_type": "markdown",
   "metadata": {},
   "source": [
    "# Vertical Bin Packing Problem\n",
    "\n",
    "- Airport and Cargo Operations (AE4446)\n",
    "- Zach Kelly (), Timotei Dudas ()\n",
    "- May 5th, 2023"
   ]
  },
  {
   "attachments": {},
   "cell_type": "markdown",
   "metadata": {},
   "source": [
    "### Imports"
   ]
  },
  {
   "cell_type": "code",
   "execution_count": 818,
   "metadata": {},
   "outputs": [],
   "source": [
    "import pandas as pd\n",
    "import numpy as np \n",
    "import matplotlib.pyplot as plt\n",
    "import matplotlib.patches as patches\n",
    "import gurobipy as gp\n",
    "from gurobipy import Model, GRB, GurobiError, quicksum, LinExpr\n",
    "import pickle"
   ]
  },
  {
   "attachments": {},
   "cell_type": "markdown",
   "metadata": {},
   "source": [
    "### Input Data"
   ]
  },
  {
   "cell_type": "code",
   "execution_count": 819,
   "metadata": {},
   "outputs": [
    {
     "name": "stdout",
     "output_type": "stream",
     "text": [
      "----- ULDs -----\n"
     ]
    },
    {
     "data": {
      "text/plain": [
       "{0: (0, [300, 155, 2, 140, 0, 0, 0]),\n",
       " 1: (0, [300, 155, 2, 140, 0, 0, 0]),\n",
       " 2: (1, [192, 155, 2, 200, 0, 0, 0]),\n",
       " 3: (1, [192, 155, 2, 200, 0, 0, 0])}"
      ]
     },
     "metadata": {},
     "output_type": "display_data"
    },
    {
     "name": "stdout",
     "output_type": "stream",
     "text": [
      "----- Items -----\n"
     ]
    },
    {
     "data": {
      "text/plain": [
       "{0: (98, 50, 1, 0, 0, 0),\n",
       " 1: (89, 46, 1, 0, 0, 0),\n",
       " 2: (64, 24, 1, 0, 0, 0),\n",
       " 3: (93, 29, 1, 1, 0, 0),\n",
       " 4: (114, 54, 1, 1, 0, 0),\n",
       " 5: (95, 60, 1, 0, 0, 0),\n",
       " 6: (63, 28, 1, 0, 0, 0),\n",
       " 7: (100, 46, 0, 0, 0, 0),\n",
       " 8: (52, 61, 1, 0, 0, 0),\n",
       " 9: (45, 46, 1, 0, 0, 0),\n",
       " 10: (111, 32, 1, 0, 0, 0),\n",
       " 11: (109, 38, 1, 0, 1, 0),\n",
       " 12: (97, 57, 1, 0, 0, 0),\n",
       " 13: (51, 29, 1, 0, 0, 0),\n",
       " 14: (86, 54, 1, 0, 0, 0),\n",
       " 15: (114, 31, 1, 1, 0, 0),\n",
       " 16: (81, 47, 1, 0, 0, 0),\n",
       " 17: (78, 25, 1, 0, 0, 0),\n",
       " 18: (78, 44, 1, 0, 0, 0),\n",
       " 19: (68, 33, 1, 0, 0, 0),\n",
       " 20: (51, 45, 1, 0, 0, 0),\n",
       " 21: (84, 36, 1, 0, 0, 1),\n",
       " 22: (66, 35, 0, 0, 0, 0),\n",
       " 23: (68, 42, 1, 1, 0, 0),\n",
       " 24: (108, 57, 1, 1, 1, 0)}"
      ]
     },
     "metadata": {},
     "output_type": "display_data"
    }
   ],
   "source": [
    "# load data \n",
    "ulds = pd.read_pickle('../data/B.pickle')\n",
    "items = pd.read_pickle('../data/R.pickle')\n",
    "\n",
    "print('----- ULDs -----')\n",
    "display(ulds)\n",
    "print('----- Items -----')\n",
    "display(items)"
   ]
  },
  {
   "cell_type": "code",
   "execution_count": 820,
   "metadata": {},
   "outputs": [],
   "source": [
    "# toy data\n",
    "'''\n",
    "ulds = {0: (0, [300, 155, 2, 140, 0, 0, 0]),1: (0, [300, 155, 2, 140, 0, 0, 0])}\n",
    "\n",
    "items = {0: (98, 50, 1, 0, 0, 0),\n",
    " 1: (89, 46, 1, 0, 0, 0),\n",
    " 2: (64, 24, 1, 0, 0, 0),\n",
    " 3: (93, 29, 1, 1, 0, 0),\n",
    " 4: (114, 54, 1, 1, 0, 0),\n",
    " 5: (95, 60, 1, 0, 0, 0),\n",
    " 6: (63, 28, 1, 0, 0, 0),\n",
    " 7: (100, 46, 0, 0, 0, 0)}\n",
    "'''"
   ]
  },
  {
   "attachments": {},
   "cell_type": "markdown",
   "metadata": {},
   "source": [
    "### Setup Model"
   ]
  },
  {
   "cell_type": "code",
   "execution_count": 821,
   "metadata": {},
   "outputs": [
    {
     "name": "stdout",
     "output_type": "stream",
     "text": [
      "Creating Model\n",
      "--------------------\n"
     ]
    }
   ],
   "source": [
    "print('Creating Model')\n",
    "print('--------------------')\n",
    "model = Model()"
   ]
  },
  {
   "attachments": {},
   "cell_type": "markdown",
   "metadata": {},
   "source": [
    "### Model Parameters "
   ]
  },
  {
   "cell_type": "code",
   "execution_count": 822,
   "metadata": {},
   "outputs": [],
   "source": [
    "# total number of items to be packed\n",
    "n = len(items.keys())\n",
    "# total number of available ULDs\n",
    "m = len(ulds.keys())\n",
    "# dimensions of items\n",
    "li = [items[i][0] for i in range(n)] # length\n",
    "hi = [items[i][1] for i in range(n)] # height\n",
    "# dimensions of ULDs \n",
    "lc = [ulds[j][1][0] for j in range(m)]\n",
    "hc = [ulds[j][1][1] for j in range(m)]\n",
    "# find largest uld length and width\n",
    "Lj_max = np.max(np.array(list(dict(ulds.values()).values()))[:,0])\n",
    "Hj_max = np.max(np.array(list(dict(ulds.values()).values()))[:,1])\n",
    "# rotatabilty of items\n",
    "vi = [items[i][2] for i in range(n)]\n",
    "# fragility of items\n",
    "fi = [items[i][3] for i in range(n)]\n",
    "# perishablity of items\n",
    "pi = [items[i][4] for i in range(n)]\n",
    "# radioactivity of items\n",
    "ri = [items[i][5] for i in range(n)]\n",
    "# cost of containers\n",
    "Cj = [ulds[j][1][3] for j in range(m)]"
   ]
  },
  {
   "attachments": {},
   "cell_type": "markdown",
   "metadata": {},
   "source": [
    "### Model Variables"
   ]
  },
  {
   "cell_type": "code",
   "execution_count": 823,
   "metadata": {},
   "outputs": [
    {
     "name": "stdout",
     "output_type": "stream",
     "text": [
      "Creating Decision Variables\n",
      "--------------------\n"
     ]
    }
   ],
   "source": [
    "print('Creating Decision Variables')\n",
    "print('--------------------')\n",
    "\n",
    "### define decision variables ###\n",
    "\n",
    "p_ij = {} # if item i is in ULD j \n",
    "\n",
    "for i in range(n):\n",
    "    for j in range(m):\n",
    "        p_ij[i,j]=model.addVar(lb=0, ub=1, vtype=GRB.BINARY,name=\"p_ij[%s,%s]\"%(i,j))\n",
    "\n",
    "u_j = {} # if container j is used \n",
    "for j in range(m):\n",
    "    u_j[j] = model.addVar(lb=0, ub=1, vtype=GRB.BINARY, name=\"u_j[%s]\"%(j))\n",
    "\n",
    "x_i = {} # x location of lower left corner of item i\n",
    "z_i = {} # z location of lower left corner of item i\n",
    "x_i_ = {} # x location of upper right corner of item i\n",
    "z_i_ = {} # z location of upper right corner of item i \n",
    "\n",
    "for i in range(n):\n",
    "    x_i[i] = model.addVar(lb=0, ub=Lj_max, vtype=GRB.CONTINUOUS, name=\"x_i[%s]\"%(i))\n",
    "    x_i_[i] = model.addVar(lb=0, ub=Lj_max, vtype=GRB.CONTINUOUS, name=\"x_i_[%s]\"%(i))\n",
    "    z_i[i] = model.addVar(lb=0, ub=Hj_max, vtype=GRB.CONTINUOUS, name=\"z_i[%s]\"%(i))\n",
    "    z_i_[i] = model.addVar(lb=0, ub=Hj_max, vtype=GRB.CONTINUOUS, name=\"z_i_[%s]\"%(i))\n",
    "\n",
    "r_i11 = {} # if length is along x axis \n",
    "r_i13 = {} # if height is along x axis \n",
    "r_i31 = {} # if length is along z axis \n",
    "r_i33 = {} # if height is along z axis \n",
    "\n",
    "for i in range(n):\n",
    "    r_i11[i] = model.addVar(lb=0, ub=1, vtype=GRB.BINARY, name=\"r_i11[%s]\"%(i))\n",
    "    r_i13[i] = model.addVar(lb=0, ub=1, vtype=GRB.BINARY, name=\"r_i13[%s]\"%(i))\n",
    "    r_i31[i] = model.addVar(lb=0, ub=1, vtype=GRB.BINARY, name=\"r_i31[%s]\"%(i))\n",
    "    r_i33[i] = model.addVar(lb=0, ub=1, vtype=GRB.BINARY, name=\"r_i33[%s]\"%(i))\n",
    "\n",
    "xp_ik = {} # if item i is to the right of item k \n",
    "zp_ik = {} # if item i is above item k \n",
    "\n",
    "for i in range(n):\n",
    "    for k in range(n):\n",
    "        if i != k:\n",
    "            xp_ik[i,k] = model.addVar(lb=0, ub=1, vtype=GRB.BINARY, name=\"xp_ik[%s,%s]\"%(i,k))\n",
    "            zp_ik[i,k] = model.addVar(lb=0, ub=1, vtype=GRB.BINARY, name=\"zp_ik[%s,%s]\"%(i,k))\n",
    "            \n",
    "r_iab = {} # if side b of item i is along axis a \n",
    "\n",
    "for i in range(n):\n",
    "    for a in range(0,2):\n",
    "        for b in range(0,2):\n",
    "            r_iab[i,a,b] = model.addVar(lb=0, ub=1, vtype=GRB.BINARY, name=\"r_iab[%s,%s,%s]\"%(i,a,b))\n",
    "\n",
    "g_i = {} # if item i is on the ground\n",
    "\n",
    "for i in range(n):\n",
    "    g_i[i] = model.addVar(lb=0, ub=1, vtype=GRB.BINARY, name=\"g_i[%s]\"%(i))\n",
    "\n",
    "h_ik = {} # if box k has a suitable height to support box i\n",
    "\n",
    "for i in range(n):\n",
    "    for k in range(i+1,n):\n",
    "        h_ik[i,k] = model.addVar(lb=0, ub=1, vtype=GRB.BINARY, name=\"h_ik[%s,%s]\"%(i,k))\n",
    "\n",
    "o_ik = {} # if the projection of the items i and k onto the x plane have a nonempty intersection\n",
    "\n",
    "for i in range(n):\n",
    "    for k in range(i+1,n):\n",
    "        o_ik[i,k] = model.addVar(lb=0, ub=1, vtype=GRB.BINARY, name=\"o_ik[%s,%s]\"%(i,k))\n",
    "\n",
    "s_ik = {} # 1 if item k supports item i and are in the same container\n",
    "\n",
    "for i in range(n):\n",
    "    for k in range(n):\n",
    "        s_ik[i,k] = model.addVar(lb=0, ub=1, vtype=GRB.BINARY, name=\"s_ik[%s,%s]\"%(i,k))\n",
    "\n",
    "n_ik1 = {} # if left side of item k is less than or equal to item i\n",
    "\n",
    "for i in range(n):\n",
    "    for k in range(i+1,n):\n",
    "        n_ik1[i,k] = model.addVar(lb=0, ub=1, vtype=GRB.BINARY, name=\"n_ik1[%s,%s]\"%(i,k))\n",
    "\n",
    "n_ik3 = {} # if right side of item i is less than or equal to item k\n",
    "\n",
    "for i in range(n):\n",
    "    for k in range(i+1,n):\n",
    "        n_ik3[i,k] = model.addVar(lb=0, ub=1, vtype=GRB.BINARY, name=\"n_ik3[%s,%s]\"%(i,k))\n",
    "\n",
    "b_ikl = {} # if vertex l of item i is supported by item k\n",
    "\n",
    "for i in range(n):\n",
    "    for k in range(n):\n",
    "        if i != k:\n",
    "            for l in range(1,3):\n",
    "                b_ikl[i,k,l] = model.addVar(lb=0, ub=1, vtype=GRB.BINARY, name=\"b_ikl[%s,%s,%s]\"%(i,k,l))\n",
    "\n",
    "v_ik = {} # represents |z_i_[k]-z_i[i]|\n",
    "\n",
    "for i in range(n):\n",
    "    for k in range(i+1,n):\n",
    "        v_ik[i,k] = model.addVar(lb=0,ub=Hj_max, vtype=GRB.CONTINUOUS, name=\"v_ik[%s,%s]\"%(i,k))\n",
    "\n",
    "m_ik = {} # if z_i_[k] >= z_i[i]\n",
    "\n",
    "for i in range(n):\n",
    "    for k in range(i+1,n):\n",
    "        m_ik[i,k] = model.addVar(lb=0,ub=1, vtype=GRB.BINARY, name=\"m_ik[%s,%s]\"%(i,k))\n",
    "\n",
    "c_j = {} # if container j is compatible with radioactive items \n",
    "\n",
    "for j in range(m):\n",
    "    c_j[j] = model.addVar(lb=0,ub=1, vtype=GRB.BINARY, name=\"c_j[%s]\"%(j))\n",
    "\n",
    "model.update()     "
   ]
  },
  {
   "attachments": {},
   "cell_type": "markdown",
   "metadata": {},
   "source": [
    "### Model Constraints"
   ]
  },
  {
   "cell_type": "code",
   "execution_count": 824,
   "metadata": {},
   "outputs": [
    {
     "name": "stdout",
     "output_type": "stream",
     "text": [
      "Creating Constraints\n",
      "--------------------\n"
     ]
    }
   ],
   "source": [
    "print('Creating Constraints')\n",
    "print('--------------------')\n",
    "\n",
    "#usage\n",
    "for i in range(n):\n",
    "    for j in range(m):\n",
    "        lhs = LinExpr()\n",
    "        lhs = p_ij[i,j]-u_j[j]\n",
    "        model.addConstr(lhs=lhs, sense=GRB.LESS_EQUAL, rhs=0, name='usage_bin_item[%s,%s]'%(i,j))\n",
    "\n",
    "# item i is constrained to single uld j (4)\n",
    "for i in range(n):\n",
    "    lhs = LinExpr()\n",
    "    for j in range(m):\n",
    "        lhs += p_ij[i,j]\n",
    "    model.addConstr(lhs=lhs, sense=GRB.EQUAL, rhs=1, name='constraint_4')\n",
    "\n",
    "# the horizontal position of each item i is constrained by the length of the container j (5)\n",
    "for i in range(n):\n",
    "    lhs = LinExpr()\n",
    "    for j in range(m):    \n",
    "        lhs += lc[j]*p_ij[i,j]\n",
    "    model.addConstr(lhs=lhs, sense=GRB.GREATER_EQUAL, rhs=x_i_[i], name='constraint_5')\n",
    "\n",
    "# the vertical position of each item i is constrained by the height of the container j (7)\n",
    "for i in range(n):\n",
    "    lhs = LinExpr()\n",
    "    for j in range(m):\n",
    "        lhs += hc[j]*p_ij[i,j]\n",
    "    model.addConstr(lhs=lhs, sense=GRB.GREATER_EQUAL, rhs=z_i_[i], name='constraint_7')\n",
    "\n",
    "# item length is length or height (8 & 10)\n",
    "for i in range(n):\n",
    "    lhs = LinExpr()\n",
    "    lhs = x_i_[i]-x_i[i]\n",
    "    model.addConstr(lhs=lhs, sense=GRB.EQUAL, rhs=r_iab[i,0,0]*li[i] + r_iab[i,0,1]*hi[i], name='constraint_8')\n",
    "    lhs = LinExpr()\n",
    "    lhs = z_i_[i]-z_i[i]\n",
    "    model.addConstr(lhs=lhs, sense=GRB.EQUAL, rhs=r_iab[i,1,0]*li[i] + r_iab[i,1,1]*hi[i], name='constraint_10')\n",
    "\n",
    "# side b of item i must only be along 1 axis a (11)\n",
    "for i in range(n):\n",
    "    for b in range(0,2):\n",
    "        lhs = LinExpr()\n",
    "        for a in range(0,2):\n",
    "            lhs += r_iab[i,a,b]\n",
    "        model.addConstr(lhs=lhs, sense=GRB.EQUAL, rhs=1, name='constraint_11')\n",
    "\n",
    "# axis a must only be along 1 side b of item i (12)\n",
    "for i in range(n):\n",
    "    for a in range(0,2):\n",
    "        lhs = LinExpr()\n",
    "        for b in range(0,2):\n",
    "            lhs += r_iab[i,a,b]\n",
    "        model.addConstr(lhs=lhs, sense=GRB.EQUAL, rhs=1, name='constraint_12')   \n",
    "\n",
    "## No Overlap Constraints ##\n",
    "# ensure no overlap of items i in container j (13, 14, 15 & 18)\n",
    "\n",
    "# items cannot overlap if they're in the same container\n",
    "for i in range(n):\n",
    "    for k in range(n):\n",
    "        if i < k:\n",
    "            lhs = LinExpr()\n",
    "            lhs = xp_ik[i,k]+zp_ik[i,k]\n",
    "            for j in range(m):\n",
    "                rhs = LinExpr()\n",
    "                rhs = p_ij[i,j]+p_ij[k,j]-1\n",
    "                model.addConstr(lhs=lhs, sense=GRB.GREATER_EQUAL, rhs=rhs, name='constraint_13')\n",
    "                \n",
    "# if item i is to the right of item k then x_i[i] >= x_i_[k]\n",
    "for i in range(n): \n",
    "    for k in range(n):\n",
    "        if i != k:\n",
    "            lhs = LinExpr()\n",
    "            lhs = x_i_[k]\n",
    "            model.addConstr(lhs=lhs, sense=GRB.LESS_EQUAL, rhs=x_i[i]+(1-xp_ik[i,k])*Lj_max, name='constraint_14') \n",
    "# if item i is the left of item k then x_i_[k] >= x_i[i]\n",
    "for i in range(n):\n",
    "    for k in range(n):\n",
    "        if i != k:\n",
    "            lhs = LinExpr()\n",
    "            lhs = x_i[i]+1\n",
    "            model.addConstr(lhs=lhs, sense=GRB.LESS_EQUAL, rhs=x_i_[k]+xp_ik[i,k]*Lj_max, name='constraint_15')\n",
    "\n",
    "for i in range(n):\n",
    "    for k in range(n):\n",
    "        if i != k:\n",
    "            lhs = LinExpr()\n",
    "            lhs = z_i_[k]\n",
    "            model.addConstr(lhs=lhs, sense=GRB.LESS_EQUAL, rhs=z_i[i]+(1-zp_ik[i,k])*Hj_max, name='constraint_17')\n",
    "\n",
    "for i in range(n):\n",
    "    for k in range(n):\n",
    "        if i != k:\n",
    "            lhs = LinExpr()\n",
    "            lhs = z_i[i]+1\n",
    "            model.addConstr(lhs=lhs, sense=GRB.LESS_EQUAL, rhs=z_i_[k]+zp_ik[i,k]*Hj_max, name='constraint_18')\n",
    "\n",
    "## Orientation Constraints ##\n",
    "# if length of box can be in a vertical orientation (19)\n",
    "for i in range(n):\n",
    "    lhs = LinExpr()\n",
    "    lhs = r_i31[i]\n",
    "    model.addConstr(lhs=lhs, sense=GRB.LESS_EQUAL, rhs=vi[i], name='constraint_19')\n",
    "\n",
    "## Stability Constraints ##\n",
    "# item i must have 2 vertices supported by another item k if not supported by the ground (26)\n",
    "for i in range(n):\n",
    "    for k in range(n):\n",
    "        if i != k:\n",
    "            for l in range(1,3):\n",
    "                lhs += 2*g_i[i] + b_ikl[i,k,l]\n",
    "\n",
    "    model.addConstr(lhs=lhs, sense=GRB.GREATER_EQUAL, rhs=2, name='constraint_26_modified')\n",
    "    lhs = LinExpr()\n",
    "\n",
    "# if lower vertex z_i of item i is on the ground then z_i[i] must equal 0 (27)\n",
    "for i in range(n):\n",
    "    lhs = LinExpr()\n",
    "    lhs = z_i[i]\n",
    "    model.addConstr(lhs=lhs, sense=GRB.LESS_EQUAL, rhs=(1-g_i[i])*Hj_max, name='constraint_27')\n",
    "\n",
    "# define variable h_ik using v_ik where v_ik = |z_i_[k] - z_i[i]| (28-33)\n",
    "for i in range(n):\n",
    "    for k in range(i+1,n):\n",
    "        lhs = LinExpr()\n",
    "        lhs = z_i_[k]-z_i[i]\n",
    "        model.addConstr(lhs=lhs, sense=GRB.LESS_EQUAL, rhs=v_ik[i,k], name='constraint_28')\n",
    "        lhs = LinExpr()\n",
    "        lhs = z_i[i]-z_i_[k]\n",
    "        model.addConstr(lhs=lhs, sense=GRB.LESS_EQUAL, rhs=v_ik[i,k], name='constraint_29')\n",
    "        lhs = LinExpr()\n",
    "        lhs = v_ik[i,k]\n",
    "        # case when z_i_[k] - z_i[i] >= 0\n",
    "        model.addConstr(lhs=lhs, sense=GRB.LESS_EQUAL, rhs=z_i_[k]-z_i[i]+2*Hj_max*(1-m_ik[i,k]), name='constraint_30')\n",
    "        # case when z_i_[k] - z_i[i] < 0\n",
    "        model.addConstr(lhs=lhs, sense=GRB.LESS_EQUAL, rhs=z_i[i]-z_i_[k]+2*Hj_max*m_ik[i,k], name='constraint_31')\n",
    "        lhs = LinExpr()\n",
    "        lhs = h_ik[i,k]\n",
    "        model.addConstr(lhs=lhs, sense=GRB.LESS_EQUAL, rhs=v_ik[i,k], name='constraint_32')\n",
    "        lhs = LinExpr()\n",
    "        lhs = v_ik[i,k]\n",
    "        model.addConstr(lhs=lhs, sense=GRB.LESS_EQUAL, rhs=h_ik[i,k]*Hj_max, name='constraint_33')\n",
    "\n",
    "# if item i and k projections dont overlap on the x-dimension then 1 <= 1 <= 1 (34)\n",
    "# if item k supports item i and are in the same container then k must have suitable hieght to support i and their projections overlap (35)\n",
    "for i in range(n):\n",
    "    for k in range(n):\n",
    "        if i < k:\n",
    "            lhs = LinExpr()\n",
    "            lhs = o_ik[i,k]\n",
    "            model.addConstr(lhs=lhs, sense=GRB.LESS_EQUAL, rhs=xp_ik[i,k]+xp_ik[k,i], name='constraint_34')\n",
    "            lhs = LinExpr()\n",
    "            lhs = xp_ik[i,k]+xp_ik[k,i]\n",
    "            model.addConstr(lhs=lhs, sense=GRB.LESS_EQUAL, rhs=o_ik[i,k], name='constraint_34')\n",
    "\n",
    "            lhs = LinExpr()\n",
    "            lhs = 1-s_ik[i,k]\n",
    "            model.addConstr(lhs=lhs, sense=GRB.LESS_EQUAL, rhs=h_ik[i,k]+o_ik[i,k], name='constraint_35')\n",
    "            lhs = LinExpr()\n",
    "            lhs = h_ik[i,k]+o_ik[i,k]\n",
    "            model.addConstr(lhs=lhs, sense=GRB.LESS_EQUAL, rhs=2*(1-s_ik[i,k]), name='constraint_35')\n",
    "\n",
    "# if item k supports item i and are in the same bin then they must be in the same bin j (36 & 37)\n",
    "for i in range(n):\n",
    "    for k in range(i+1,n):\n",
    "        for j in range(m):\n",
    "            lhs = LinExpr()\n",
    "            lhs = p_ij[i,j] - p_ij[k,j]\n",
    "            model.addConstr(lhs=lhs, sense=GRB.LESS_EQUAL, rhs=1-s_ik[i,k], name='constraint_36')\n",
    "            lhs = LinExpr()\n",
    "            lhs = p_ij[k,j] - p_ij[i,j]\n",
    "            model.addConstr(lhs=lhs, sense=GRB.LESS_EQUAL, rhs=1-s_ik[i,k], name='constraint_37')\n",
    "\n",
    "# if vertex l of item i is supported by item k then item k must support item i and be in the same container j (38)\n",
    "\n",
    "for i in range(n):\n",
    "    for k in range(i+1,n):\n",
    "        for l in range(1,3):\n",
    "            lhs = LinExpr()\n",
    "            lhs = b_ikl[i,k,l]\n",
    "            model.addConstr(lhs=lhs, sense=GRB.LESS_EQUAL, rhs=s_ik[i,k], name='constraint_38')\n",
    "\n",
    "# if vertex l is supported the then n_ikl must be equal to 0 (39 & 40)\n",
    "for i in range(n):\n",
    "    for k in range(i+1,n):\n",
    "        lhs = LinExpr()\n",
    "        lhs = n_ik1[i,k]\n",
    "        model.addConstr(lhs=lhs, sense=GRB.LESS_EQUAL, rhs=(1-b_ikl[i,k,1]), name='constraint_39')\n",
    "        lhs = LinExpr()\n",
    "        lhs = n_ik3[i,k]\n",
    "        model.addConstr(lhs=lhs, sense=GRB.LESS_EQUAL, rhs=(1-b_ikl[i,k,2]), name='constraint_40')\n",
    "\n",
    "# define n_ikl (43 & 45)\n",
    "for i in range(n):\n",
    "    for k in range(i+1,n):\n",
    "        lhs = LinExpr()\n",
    "        lhs = x_i[k]\n",
    "        model.addConstr(lhs=lhs, sense=GRB.LESS_EQUAL, rhs=x_i[i]+n_ik1[i,k]*Lj_max, name='constraint_43')\n",
    "        lhs = LinExpr()\n",
    "        lhs = x_i_[i]\n",
    "        model.addConstr(lhs=lhs, sense=GRB.LESS_EQUAL, rhs=x_i_[k]+n_ik3[i,k]*Lj_max, name='constraint_45')\n",
    "\n",
    "# if item k is fragile then it cannot support item i (51)\n",
    "for k in range(n):\n",
    "    lhs = LinExpr()\n",
    "    for i in range(n):\n",
    "        if i != k:\n",
    "            lhs += s_ik[i,k]\n",
    "    model.addConstr(lhs=lhs, sense=GRB.LESS_EQUAL, rhs=n*(1-fi[k]), name='constraint_51')\n",
    "\n",
    "# perishable and radioactive items cannot be in the same container j (52)\n",
    "for j in range(m):\n",
    "    lhs = LinExpr()\n",
    "    for i in range(n):\n",
    "        perishable = LinExpr()\n",
    "        perishable += pi[i]*p_ij[i,j]\n",
    "        radioactive = LinExpr()\n",
    "        radioactive += ri[i]*p_ij[i,j]\n",
    "    \n",
    "    # if there are radioactive items in container j there cannot be any perishable items in container j.\n",
    "    model.addConstr(lhs=perishable, sense=GRB.LESS_EQUAL, rhs=n*(1-c_j[j]), name='constraint_52')   \n",
    "    # if there are perishable items in container j there cannot be any radioactive items in container j.\n",
    "    model.addConstr(lhs=radioactive, sense=GRB.LESS_EQUAL, rhs=n*c_j[j], name='constraint_52')\n",
    "\n",
    "model.update()"
   ]
  },
  {
   "attachments": {},
   "cell_type": "markdown",
   "metadata": {},
   "source": [
    "### Model Objective"
   ]
  },
  {
   "cell_type": "code",
   "execution_count": 825,
   "metadata": {},
   "outputs": [
    {
     "name": "stdout",
     "output_type": "stream",
     "text": [
      "Creating Objective\n",
      "--------------------\n"
     ]
    }
   ],
   "source": [
    "print('Creating Objective')\n",
    "print('--------------------')\n",
    "\n",
    "# minimize the cost of packing all the items\n",
    "obj = 0\n",
    "for j in range(m):\n",
    "    obj += Cj[j]*u_j[j]\n",
    "\n",
    "model.setObjective(obj, GRB.MINIMIZE)\n",
    "\n",
    "model.update()"
   ]
  },
  {
   "attachments": {},
   "cell_type": "markdown",
   "metadata": {},
   "source": [
    "### Export Model"
   ]
  },
  {
   "cell_type": "code",
   "execution_count": 826,
   "metadata": {},
   "outputs": [
    {
     "name": "stdout",
     "output_type": "stream",
     "text": [
      "Warning: linear constraint 16 and linear constraint 17 have the same name \"constraint_4\"\n"
     ]
    }
   ],
   "source": [
    "model.write('2D_Vertical_BPP.lp')"
   ]
  },
  {
   "attachments": {},
   "cell_type": "markdown",
   "metadata": {},
   "source": [
    "### Solve"
   ]
  },
  {
   "cell_type": "code",
   "execution_count": 827,
   "metadata": {},
   "outputs": [
    {
     "name": "stdout",
     "output_type": "stream",
     "text": [
      "Set parameter MIPGap to value 0.001\n",
      "Set parameter TimeLimit to value 7200\n",
      "Set parameter LogFile to value \"2D_BPP.log\"\n",
      "Gurobi Optimizer version 10.0.1 build v10.0.1rc0 (win64)\n",
      "\n",
      "CPU model: Intel(R) Core(TM) i7-7700HQ CPU @ 2.80GHz, instruction set [SSE2|AVX|AVX2]\n",
      "Thread count: 4 physical cores, 8 logical processors, using up to 8 threads\n",
      "\n",
      "Optimize a model with 964 rows, 580 columns and 2893 nonzeros\n",
      "Model fingerprint: 0x11e597d7\n",
      "Variable types: 60 continuous, 520 integer (520 binary)\n",
      "Coefficient statistics:\n",
      "  Matrix range     [1e+00, 3e+02]\n",
      "  Objective range  [1e+02, 1e+02]\n",
      "  Bounds range     [1e+00, 3e+02]\n",
      "  RHS range        [1e+00, 3e+02]\n",
      "Presolve removed 343 rows and 274 columns\n",
      "Presolve time: 0.01s\n",
      "Presolved: 621 rows, 306 columns, 2032 nonzeros\n",
      "Variable types: 60 continuous, 246 integer (246 binary)\n",
      "\n",
      "Root relaxation: objective 1.400000e+02, 252 iterations, 0.00 seconds (0.00 work units)\n",
      "\n",
      "    Nodes    |    Current Node    |     Objective Bounds      |     Work\n",
      " Expl Unexpl |  Obj  Depth IntInf | Incumbent    BestBd   Gap | It/Node Time\n",
      "\n",
      "     0     0  140.00000    0   24          -  140.00000      -     -    0s\n",
      "H    0     0                     280.0000000  140.00000  50.0%     -    0s\n",
      "H    0     0                     140.0000000  140.00000  0.00%     -    0s\n",
      "\n",
      "Explored 1 nodes (697 simplex iterations) in 0.09 seconds (0.02 work units)\n",
      "Thread count was 8 (of 8 available processors)\n",
      "\n",
      "Solution count 2: 140 280 \n",
      "\n",
      "Optimal solution found (tolerance 1.00e-03)\n",
      "Best objective 1.400000000000e+02, best bound 1.400000000000e+02, gap 0.0000%\n"
     ]
    }
   ],
   "source": [
    "model.setParam('MIPGap',0.001)\n",
    "model.setParam('TimeLimit',2*3600)\n",
    "model.params.LogFile='2D_BPP.log'\n",
    "\n",
    "model.optimize()"
   ]
  },
  {
   "attachments": {},
   "cell_type": "markdown",
   "metadata": {},
   "source": [
    "### Post Processing "
   ]
  },
  {
   "cell_type": "code",
   "execution_count": 828,
   "metadata": {},
   "outputs": [],
   "source": [
    "# get variable names and values\n",
    "solution = []\n",
    "for v in model.getVars():\n",
    "    solution.append([v.varName,v.x])\n",
    "\n",
    "solution = pd.DataFrame(solution)\n",
    "solution.rename(columns={0:'Variable',1:'Value'})\n",
    "\n",
    "solution.to_csv(\"solution.txt\", header=None, index=None, sep='=', mode='w')"
   ]
  },
  {
   "cell_type": "code",
   "execution_count": 829,
   "metadata": {},
   "outputs": [],
   "source": [
    "# Extract the results\n",
    "bins_used = [j for j in ulds if quicksum(p_ij[i,j].X for i in items).getValue() > 0]\n",
    "items_in_bin = {j: [i for i in items if p_ij[i,j].X > 0] for j in bins_used}\n",
    "item_positions = {(i, j): (x_i[i].X, z_i[i].X) for j in bins_used for i in items_in_bin[j]}\n",
    "item_info_solution = {i: [x_i[i].X, z_i[i].X, items[i][0]*r_iab[i,0,0].X+items[i][1]*r_iab[i,0,1].X, items[i][0]*r_iab[i,1,0].X+items[i][1]*r_iab[i,1,1].X] for i in items}"
   ]
  },
  {
   "cell_type": "code",
   "execution_count": 830,
   "metadata": {},
   "outputs": [
    {
     "data": {
      "image/png": "[encoded data removed]",
      "text/plain": [
       "<Figure size 1200x800 with 1 Axes>"
      ]
     },
     "metadata": {},
     "output_type": "display_data"
    }
   ],
   "source": [
    "# Visualization function\n",
    "def visualize_solution(items, ulds, items_in_bin, item_positions, fi, pi, ri):\n",
    "    for j in ulds:\n",
    "        if j in items_in_bin:\n",
    "            fig, ax = plt.subplots(figsize=(12, 8))\n",
    "            ax.set_xlim(0, int(ulds[j][1][0]))\n",
    "            ax.set_ylim(0, int(ulds[j][1][1]))\n",
    "\n",
    "            for i in items_in_bin[j]:\n",
    "                pos = item_positions[(i, j)]\n",
    "                rect = patches.Rectangle(pos, items[i][0]*r_iab[i,0,0].X+items[i][1]*r_iab[i,0,1].X, items[i][0]*r_iab[i,1,0].X+items[i][1]*r_iab[i,1,1].X, linewidth=1, edgecolor='r', facecolor='none')\n",
    "                ax.add_patch(rect)\n",
    "                ax.text(pos[0] + (items[i][0]*r_iab[i,0,0].X+items[i][1]*r_iab[i,0,1].X) / 2, pos[1] + (items[i][0]*r_iab[i,1,0].X+items[i][1]*r_iab[i,1,1].X) / 2, f\"{i,(fi[i],pi[i],ri[i])}\", fontsize=12, ha=\"center\", va=\"center\")\n",
    "\n",
    "            plt.title(f\"ULD {j}\")\n",
    "            plt.xlabel('Length')\n",
    "            plt.ylabel('Height')\n",
    "            plt.show()\n",
    "\n",
    "# Visualize the packed bins\n",
    "visualize_solution(items, ulds, items_in_bin, item_positions, fi, pi, ri)"
   ]
  },
  {
   "cell_type": "code",
   "execution_count": 831,
   "metadata": {},
   "outputs": [],
   "source": [
    "bins_used\n",
    "\n",
    "with open('bins_used.pickle', 'wb') as file:\n",
    "    pickle.dump(bins_used, file)"
   ]
  },
  {
   "cell_type": "code",
   "execution_count": 832,
   "metadata": {},
   "outputs": [],
   "source": [
    "items_in_bin\n",
    "\n",
    "with open('items_in_bin.pickle', 'wb') as file:\n",
    "    pickle.dump(items_in_bin, file)\n"
   ]
  },
  {
   "cell_type": "code",
   "execution_count": 835,
   "metadata": {},
   "outputs": [
    {
     "data": {
      "text/plain": [
       "{0: [0, 1, 2, 4, 5, 9, 11, 18, 20],\n",
       " 1: [3, 6, 8, 10, 14, 16, 19, 22, 24],\n",
       " 3: [7, 12, 13, 15, 17, 21, 23]}"
      ]
     },
     "execution_count": 835,
     "metadata": {},
     "output_type": "execute_result"
    }
   ],
   "source": [
    "item_info_solution\n",
    "\n",
    "with open('item_info_solution.pickle', 'wb') as file:\n",
    "    pickle.dump(item_info_solution, file)"
   ]
  }
 ],
 "metadata": {
  "kernelspec": {
   "display_name": "Python 3",
   "language": "python",
   "name": "python3"
  },
  "language_info": {
   "codemirror_mode": {
    "name": "ipython",
    "version": 3
   },
   "file_extension": ".py",
   "mimetype": "text/x-python",
   "name": "python",
   "nbconvert_exporter": "python",
   "pygments_lexer": "ipython3",
   "version": "3.10.5"
  },
  "orig_nbformat": 4
 },
 "nbformat": 4,
 "nbformat_minor": 2
}
