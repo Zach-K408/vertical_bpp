{
 "cells": [
  {
   "cell_type": "code",
   "execution_count": 1,
   "metadata": {},
   "outputs": [],
   "source": [
    "import pickle\n",
    "import gurobipy as gp\n",
    "from gurobipy import GRB"
   ]
  },
  {
   "cell_type": "code",
   "execution_count": 3,
   "metadata": {},
   "outputs": [
    {
     "name": "stdout",
     "output_type": "stream",
     "text": [
      "{0: (0, [300, 155, 2, 140, 0, 0, 0]), 1: (0, [300, 155, 2, 140, 0, 0, 0]), 2: (1, [192, 155, 2, 200, 0, 0, 0]), 3: (1, [192, 155, 2, 200, 0, 0, 0])}\n",
      "{0: (98, 50, 1, 0, 0, 0), 1: (89, 46, 1, 0, 0, 0), 2: (64, 24, 1, 0, 0, 0), 3: (93, 29, 1, 1, 0, 0), 4: (114, 54, 1, 1, 0, 0), 5: (95, 60, 1, 0, 0, 0), 6: (63, 28, 1, 0, 0, 0), 7: (100, 46, 0, 0, 0, 0), 8: (52, 61, 1, 0, 0, 0), 9: (45, 46, 1, 0, 0, 0), 10: (111, 32, 1, 0, 0, 0), 11: (109, 38, 1, 0, 1, 0), 12: (97, 57, 1, 0, 0, 0), 13: (51, 29, 1, 0, 0, 0), 14: (86, 54, 1, 0, 0, 0), 15: (114, 31, 1, 1, 0, 0), 16: (81, 47, 1, 0, 0, 0), 17: (78, 25, 1, 0, 0, 0), 18: (78, 44, 1, 0, 0, 0), 19: (68, 33, 1, 0, 0, 0), 20: (51, 45, 1, 0, 0, 0), 21: (84, 36, 1, 0, 0, 1), 22: (66, 35, 0, 0, 0, 0), 23: (68, 42, 1, 1, 0, 0), 24: (108, 57, 1, 1, 1, 0)}\n"
     ]
    }
   ],
   "source": [
    "with open('../data/B.pickle', 'rb') as handle:\n",
    "    B = pickle.load(handle)\n",
    "print(B)\n",
    "with open('../data/R.pickle', 'rb') as handle:\n",
    "    R = pickle.load(handle)\n",
    "print(R)"
   ]
  },
  {
   "cell_type": "code",
   "execution_count": 5,
   "metadata": {},
   "outputs": [],
   "source": [
    "#Define parameters\n",
    "n = len(R) #total boxes to be packed\n",
    "m = len(B) #total ULDs available\n"
   ]
  },
  {
   "cell_type": "code",
   "execution_count": 7,
   "metadata": {},
   "outputs": [
    {
     "ename": "NameError",
     "evalue": "name 'C_j' is not defined",
     "output_type": "error",
     "traceback": [
      "\u001b[1;31m---------------------------------------------------------------------------\u001b[0m",
      "\u001b[1;31mNameError\u001b[0m                                 Traceback (most recent call last)",
      "\u001b[1;32mc:\\Users\\zachk\\Documents\\ubco\\year5\\delft_term2\\quarter3\\AE4446\\project\\vertical_bpp\\MILP.ipynb Cell 4\u001b[0m in \u001b[0;36m2\n\u001b[0;32m     <a href='vscode-notebook-cell:/c%3A/Users/zachk/Documents/ubco/year5/delft_term2/quarter3/AE4446/project/vertical_bpp/MILP.ipynb#W3sZmlsZQ%3D%3D?line=17'>18</a>\u001b[0m r_i33 \u001b[39m=\u001b[39m m\u001b[39m.\u001b[39maddVar(vtype\u001b[39m=\u001b[39mGRB\u001b[39m.\u001b[39mBINARY, name\u001b[39m=\u001b[39m\u001b[39m\"\u001b[39m\u001b[39mr_i33\u001b[39m\u001b[39m\"\u001b[39m) \u001b[39m#if height is along z axis\u001b[39;00m\n\u001b[0;32m     <a href='vscode-notebook-cell:/c%3A/Users/zachk/Documents/ubco/year5/delft_term2/quarter3/AE4446/project/vertical_bpp/MILP.ipynb#W3sZmlsZQ%3D%3D?line=19'>20</a>\u001b[0m \u001b[39m# Set objective\u001b[39;00m\n\u001b[1;32m---> <a href='vscode-notebook-cell:/c%3A/Users/zachk/Documents/ubco/year5/delft_term2/quarter3/AE4446/project/vertical_bpp/MILP.ipynb#W3sZmlsZQ%3D%3D?line=20'>21</a>\u001b[0m m\u001b[39m.\u001b[39msetObjective(u_j \u001b[39m*\u001b[39m C_j, GRB\u001b[39m.\u001b[39mMINIMIZE)\n\u001b[0;32m     <a href='vscode-notebook-cell:/c%3A/Users/zachk/Documents/ubco/year5/delft_term2/quarter3/AE4446/project/vertical_bpp/MILP.ipynb#W3sZmlsZQ%3D%3D?line=22'>23</a>\u001b[0m \u001b[39m# Add constraint: x + 2 y + 3 z <= 4\u001b[39;00m\n\u001b[0;32m     <a href='vscode-notebook-cell:/c%3A/Users/zachk/Documents/ubco/year5/delft_term2/quarter3/AE4446/project/vertical_bpp/MILP.ipynb#W3sZmlsZQ%3D%3D?line=23'>24</a>\u001b[0m m\u001b[39m.\u001b[39maddConstr(x \u001b[39m+\u001b[39m \u001b[39m2\u001b[39m \u001b[39m*\u001b[39m y \u001b[39m+\u001b[39m \u001b[39m3\u001b[39m \u001b[39m*\u001b[39m z \u001b[39m<\u001b[39m\u001b[39m=\u001b[39m \u001b[39m4\u001b[39m, \u001b[39m\"\u001b[39m\u001b[39mc0\u001b[39m\u001b[39m\"\u001b[39m)\n",
      "\u001b[1;31mNameError\u001b[0m: name 'C_j' is not defined"
     ]
    }
   ],
   "source": [
    "try:\n",
    "    # Create a new model\n",
    "    m = gp.Model(\"mip\")\n",
    "\n",
    "    # Create variables\n",
    "    p_ij = m.addVar(vtype=GRB.BINARY, name=\"p_ij\") #if box i is in container j\n",
    "    u_j = m.addVar(vtype=GRB.BINARY, name=\"u_j\") #if container j is used\n",
    "    x_i = m.addVar(vtype=GRB.INTEGER, name=\"x_i\") #bottom left corner of box i\n",
    "    z_i = m.addVar(vtype=GRB.INTEGER, name=\"z_i\") #bottom left corner of box i\n",
    "    x_i_ = m.addVar(vtype=GRB.INTEGER, name=\"x_i_\") #top right corner of box i\n",
    "    z_i_ = m.addVar(vtype=GRB.INTEGER, name=\"z_i_\") #top right corner of box i\n",
    "    r_iab = m.addVar(vtype=GRB.BINARY, name=\"r_iab\") #if side b of box i is along axis a\n",
    "    xp_ik = m.addVar(vtype=GRB.BINARY, name=\"xp_ik\") #if box i is on right of box k\n",
    "    zp_ik = m.addVar(vtype=GRB.BINARY, name=\"zp_ik\") #if box i is above box k\n",
    "    r_i11 = m.addVar(vtype=GRB.BINARY, name=\"r_i11\") #if length is along x axis\n",
    "    r_i13 = m.addVar(vtype=GRB.BINARY, name=\"r_i13\") #if height is along x axis\n",
    "    r_i31 = m.addVar(vtype=GRB.BINARY, name=\"r_i31\") #if length is along z axis\n",
    "    r_i33 = m.addVar(vtype=GRB.BINARY, name=\"r_i33\") #if height is along z axis\n",
    "\n",
    "    # Set objective\n",
    "    m.setObjective(u_j * C_j, GRB.MINIMIZE)\n",
    "\n",
    "    # Add constraint: x + 2 y + 3 z <= 4\n",
    "    m.addConstr(x + 2 * y + 3 * z <= 4, \"c0\")\n",
    "\n",
    "    # Add constraint: x + y >= 1\n",
    "    m.addConstr(x + y >= 1, \"c1\")\n",
    "\n",
    "    # Optimize model\n",
    "    m.optimize()\n",
    "\n",
    "    for v in m.getVars():\n",
    "        print('%s %g' % (v.VarName, v.X))\n",
    "\n",
    "    print('Obj: %g' % m.ObjVal)\n",
    "\n",
    "except gp.GurobiError as e:\n",
    "    print('Error code ' + str(e.errno) + ': ' + str(e))\n",
    "\n",
    "except AttributeError:\n",
    "    print('Encountered an attribute error')"
   ]
  },
  {
   "cell_type": "code",
   "execution_count": null,
   "metadata": {},
   "outputs": [
    {
     "name": "stdout",
     "output_type": "stream",
     "text": [
      "Help on method addVar in module gurobipy:\n",
      "\n",
      "addVar(lb=0.0, ub=1e+100, obj=0.0, vtype='C', name='', column=None) method of gurobipy.Model instance\n",
      "    ROUTINE:\n",
      "      addVar(lb, ub, obj, vtype, name, column)\n",
      "    \n",
      "    PURPOSE:\n",
      "      Add a variable to the model.\n",
      "    \n",
      "    ARGUMENTS:\n",
      "      lb (float): Lower bound (default is zero)\n",
      "      ub (float): Upper bound (default is infinite)\n",
      "      obj (float): Objective coefficient (default is zero)\n",
      "      vtype (string): Variable type (default is GRB.CONTINUOUS)\n",
      "      name (string): Variable name (default is no name)\n",
      "      column (Column): Initial coefficients for column (default is None)\n",
      "    \n",
      "    RETURN VALUE:\n",
      "      The created Var object.\n",
      "    \n",
      "    EXAMPLE:\n",
      "      v = model.addVar(ub=2.0, name=\"NewVar\")\n",
      "\n"
     ]
    }
   ],
   "source": [
    "help(m.addVar)"
   ]
  },
  {
   "cell_type": "code",
   "execution_count": null,
   "metadata": {},
   "outputs": [],
   "source": []
  }
 ],
 "metadata": {
  "kernelspec": {
   "display_name": "Python 3",
   "language": "python",
   "name": "python3"
  },
  "language_info": {
   "codemirror_mode": {
    "name": "ipython",
    "version": 3
   },
   "file_extension": ".py",
   "mimetype": "text/x-python",
   "name": "python",
   "nbconvert_exporter": "python",
   "pygments_lexer": "ipython3",
   "version": "3.10.5"
  }
 },
 "nbformat": 4,
 "nbformat_minor": 4
}
